{
  "nbformat": 4,
  "nbformat_minor": 0,
  "metadata": {
    "colab": {
      "name": "Projet_python_for_data_analysis.ipynb",
      "provenance": [],
      "collapsed_sections": [
        "iFHPyDgkZBwm",
        "eqw_nGtmiZn6",
        "nvpEnhWelNs5",
        "DN5ay46rnfe_",
        "vHQgECPfqQAc"
      ],
      "machine_shape": "hm",
      "authorship_tag": "ABX9TyPA+QW9Q/SKaOT8l18dUFWC",
      "include_colab_link": true
    },
    "kernelspec": {
      "name": "python3",
      "display_name": "Python 3"
    },
    "accelerator": "GPU"
  },
  "cells": [
    {
      "cell_type": "markdown",
      "metadata": {
        "id": "view-in-github",
        "colab_type": "text"
      },
      "source": [
        "<a href=\"https://colab.research.google.com/github/a-essa/Python_for_data_analysis/blob/master/Projet_python_for_data_analysis.ipynb\" target=\"_parent\"><img src=\"https://colab.research.google.com/assets/colab-badge.svg\" alt=\"Open In Colab\"/></a>"
      ]
    },
    {
      "cell_type": "code",
      "metadata": {
        "id": "gqdCMOOBYxXW",
        "colab_type": "code",
        "colab": {}
      },
      "source": [
        "import numpy as np\n",
        "import pandas as pd"
      ],
      "execution_count": 0,
      "outputs": []
    },
    {
      "cell_type": "markdown",
      "metadata": {
        "id": "6FD9hArbYrvp",
        "colab_type": "text"
      },
      "source": [
        "#Chargement des données, prétraitement et visualisation"
      ]
    },
    {
      "cell_type": "markdown",
      "metadata": {
        "id": "iFHPyDgkZBwm",
        "colab_type": "text"
      },
      "source": [
        "## Chargelent des données"
      ]
    },
    {
      "cell_type": "code",
      "metadata": {
        "id": "Q0kGSjH7YlCr",
        "colab_type": "code",
        "colab": {}
      },
      "source": [
        "df = pd.read_csv('https://archive.ics.uci.edu/ml/machine-learning-databases/00498/incident_event_log.zip')"
      ],
      "execution_count": 0,
      "outputs": []
    },
    {
      "cell_type": "code",
      "metadata": {
        "id": "72Gfsb5vY0mE",
        "colab_type": "code",
        "outputId": "96d2c793-bc2e-4d66-ff27-bf0ee8443aa6",
        "colab": {
          "base_uri": "https://localhost:8080/",
          "height": 32
        }
      },
      "source": [
        "df.shape"
      ],
      "execution_count": 3,
      "outputs": [
        {
          "output_type": "execute_result",
          "data": {
            "text/plain": [
              "(141712, 36)"
            ]
          },
          "metadata": {
            "tags": []
          },
          "execution_count": 3
        }
      ]
    },
    {
      "cell_type": "code",
      "metadata": {
        "id": "5C5OeK4qsbnI",
        "colab_type": "code",
        "outputId": "b96f98a7-6197-4d66-d798-eaa673ca55e4",
        "colab": {
          "base_uri": "https://localhost:8080/",
          "height": 596
        }
      },
      "source": [
        "df"
      ],
      "execution_count": 4,
      "outputs": [
        {
          "output_type": "execute_result",
          "data": {
            "text/html": [
              "<div>\n",
              "<style scoped>\n",
              "    .dataframe tbody tr th:only-of-type {\n",
              "        vertical-align: middle;\n",
              "    }\n",
              "\n",
              "    .dataframe tbody tr th {\n",
              "        vertical-align: top;\n",
              "    }\n",
              "\n",
              "    .dataframe thead th {\n",
              "        text-align: right;\n",
              "    }\n",
              "</style>\n",
              "<table border=\"1\" class=\"dataframe\">\n",
              "  <thead>\n",
              "    <tr style=\"text-align: right;\">\n",
              "      <th></th>\n",
              "      <th>number</th>\n",
              "      <th>incident_state</th>\n",
              "      <th>active</th>\n",
              "      <th>reassignment_count</th>\n",
              "      <th>reopen_count</th>\n",
              "      <th>sys_mod_count</th>\n",
              "      <th>made_sla</th>\n",
              "      <th>caller_id</th>\n",
              "      <th>opened_by</th>\n",
              "      <th>opened_at</th>\n",
              "      <th>sys_created_by</th>\n",
              "      <th>sys_created_at</th>\n",
              "      <th>sys_updated_by</th>\n",
              "      <th>sys_updated_at</th>\n",
              "      <th>contact_type</th>\n",
              "      <th>location</th>\n",
              "      <th>category</th>\n",
              "      <th>subcategory</th>\n",
              "      <th>u_symptom</th>\n",
              "      <th>cmdb_ci</th>\n",
              "      <th>impact</th>\n",
              "      <th>urgency</th>\n",
              "      <th>priority</th>\n",
              "      <th>assignment_group</th>\n",
              "      <th>assigned_to</th>\n",
              "      <th>knowledge</th>\n",
              "      <th>u_priority_confirmation</th>\n",
              "      <th>notify</th>\n",
              "      <th>problem_id</th>\n",
              "      <th>rfc</th>\n",
              "      <th>vendor</th>\n",
              "      <th>caused_by</th>\n",
              "      <th>closed_code</th>\n",
              "      <th>resolved_by</th>\n",
              "      <th>resolved_at</th>\n",
              "      <th>closed_at</th>\n",
              "    </tr>\n",
              "  </thead>\n",
              "  <tbody>\n",
              "    <tr>\n",
              "      <th>0</th>\n",
              "      <td>INC0000045</td>\n",
              "      <td>New</td>\n",
              "      <td>True</td>\n",
              "      <td>0</td>\n",
              "      <td>0</td>\n",
              "      <td>0</td>\n",
              "      <td>True</td>\n",
              "      <td>Caller 2403</td>\n",
              "      <td>Opened by  8</td>\n",
              "      <td>29/2/2016 01:16</td>\n",
              "      <td>Created by 6</td>\n",
              "      <td>29/2/2016 01:23</td>\n",
              "      <td>Updated by 21</td>\n",
              "      <td>29/2/2016 01:23</td>\n",
              "      <td>Phone</td>\n",
              "      <td>Location 143</td>\n",
              "      <td>Category 55</td>\n",
              "      <td>Subcategory 170</td>\n",
              "      <td>Symptom 72</td>\n",
              "      <td>?</td>\n",
              "      <td>2 - Medium</td>\n",
              "      <td>2 - Medium</td>\n",
              "      <td>3 - Moderate</td>\n",
              "      <td>Group 56</td>\n",
              "      <td>?</td>\n",
              "      <td>True</td>\n",
              "      <td>False</td>\n",
              "      <td>Do Not Notify</td>\n",
              "      <td>?</td>\n",
              "      <td>?</td>\n",
              "      <td>?</td>\n",
              "      <td>?</td>\n",
              "      <td>code 5</td>\n",
              "      <td>Resolved by 149</td>\n",
              "      <td>29/2/2016 11:29</td>\n",
              "      <td>5/3/2016 12:00</td>\n",
              "    </tr>\n",
              "    <tr>\n",
              "      <th>1</th>\n",
              "      <td>INC0000045</td>\n",
              "      <td>Resolved</td>\n",
              "      <td>True</td>\n",
              "      <td>0</td>\n",
              "      <td>0</td>\n",
              "      <td>2</td>\n",
              "      <td>True</td>\n",
              "      <td>Caller 2403</td>\n",
              "      <td>Opened by  8</td>\n",
              "      <td>29/2/2016 01:16</td>\n",
              "      <td>Created by 6</td>\n",
              "      <td>29/2/2016 01:23</td>\n",
              "      <td>Updated by 642</td>\n",
              "      <td>29/2/2016 08:53</td>\n",
              "      <td>Phone</td>\n",
              "      <td>Location 143</td>\n",
              "      <td>Category 55</td>\n",
              "      <td>Subcategory 170</td>\n",
              "      <td>Symptom 72</td>\n",
              "      <td>?</td>\n",
              "      <td>2 - Medium</td>\n",
              "      <td>2 - Medium</td>\n",
              "      <td>3 - Moderate</td>\n",
              "      <td>Group 56</td>\n",
              "      <td>?</td>\n",
              "      <td>True</td>\n",
              "      <td>False</td>\n",
              "      <td>Do Not Notify</td>\n",
              "      <td>?</td>\n",
              "      <td>?</td>\n",
              "      <td>?</td>\n",
              "      <td>?</td>\n",
              "      <td>code 5</td>\n",
              "      <td>Resolved by 149</td>\n",
              "      <td>29/2/2016 11:29</td>\n",
              "      <td>5/3/2016 12:00</td>\n",
              "    </tr>\n",
              "    <tr>\n",
              "      <th>2</th>\n",
              "      <td>INC0000045</td>\n",
              "      <td>Resolved</td>\n",
              "      <td>True</td>\n",
              "      <td>0</td>\n",
              "      <td>0</td>\n",
              "      <td>3</td>\n",
              "      <td>True</td>\n",
              "      <td>Caller 2403</td>\n",
              "      <td>Opened by  8</td>\n",
              "      <td>29/2/2016 01:16</td>\n",
              "      <td>Created by 6</td>\n",
              "      <td>29/2/2016 01:23</td>\n",
              "      <td>Updated by 804</td>\n",
              "      <td>29/2/2016 11:29</td>\n",
              "      <td>Phone</td>\n",
              "      <td>Location 143</td>\n",
              "      <td>Category 55</td>\n",
              "      <td>Subcategory 170</td>\n",
              "      <td>Symptom 72</td>\n",
              "      <td>?</td>\n",
              "      <td>2 - Medium</td>\n",
              "      <td>2 - Medium</td>\n",
              "      <td>3 - Moderate</td>\n",
              "      <td>Group 56</td>\n",
              "      <td>?</td>\n",
              "      <td>True</td>\n",
              "      <td>False</td>\n",
              "      <td>Do Not Notify</td>\n",
              "      <td>?</td>\n",
              "      <td>?</td>\n",
              "      <td>?</td>\n",
              "      <td>?</td>\n",
              "      <td>code 5</td>\n",
              "      <td>Resolved by 149</td>\n",
              "      <td>29/2/2016 11:29</td>\n",
              "      <td>5/3/2016 12:00</td>\n",
              "    </tr>\n",
              "    <tr>\n",
              "      <th>3</th>\n",
              "      <td>INC0000045</td>\n",
              "      <td>Closed</td>\n",
              "      <td>False</td>\n",
              "      <td>0</td>\n",
              "      <td>0</td>\n",
              "      <td>4</td>\n",
              "      <td>True</td>\n",
              "      <td>Caller 2403</td>\n",
              "      <td>Opened by  8</td>\n",
              "      <td>29/2/2016 01:16</td>\n",
              "      <td>Created by 6</td>\n",
              "      <td>29/2/2016 01:23</td>\n",
              "      <td>Updated by 908</td>\n",
              "      <td>5/3/2016 12:00</td>\n",
              "      <td>Phone</td>\n",
              "      <td>Location 143</td>\n",
              "      <td>Category 55</td>\n",
              "      <td>Subcategory 170</td>\n",
              "      <td>Symptom 72</td>\n",
              "      <td>?</td>\n",
              "      <td>2 - Medium</td>\n",
              "      <td>2 - Medium</td>\n",
              "      <td>3 - Moderate</td>\n",
              "      <td>Group 56</td>\n",
              "      <td>?</td>\n",
              "      <td>True</td>\n",
              "      <td>False</td>\n",
              "      <td>Do Not Notify</td>\n",
              "      <td>?</td>\n",
              "      <td>?</td>\n",
              "      <td>?</td>\n",
              "      <td>?</td>\n",
              "      <td>code 5</td>\n",
              "      <td>Resolved by 149</td>\n",
              "      <td>29/2/2016 11:29</td>\n",
              "      <td>5/3/2016 12:00</td>\n",
              "    </tr>\n",
              "    <tr>\n",
              "      <th>4</th>\n",
              "      <td>INC0000047</td>\n",
              "      <td>New</td>\n",
              "      <td>True</td>\n",
              "      <td>0</td>\n",
              "      <td>0</td>\n",
              "      <td>0</td>\n",
              "      <td>True</td>\n",
              "      <td>Caller 2403</td>\n",
              "      <td>Opened by  397</td>\n",
              "      <td>29/2/2016 04:40</td>\n",
              "      <td>Created by 171</td>\n",
              "      <td>29/2/2016 04:57</td>\n",
              "      <td>Updated by 746</td>\n",
              "      <td>29/2/2016 04:57</td>\n",
              "      <td>Phone</td>\n",
              "      <td>Location 165</td>\n",
              "      <td>Category 40</td>\n",
              "      <td>Subcategory 215</td>\n",
              "      <td>Symptom 471</td>\n",
              "      <td>?</td>\n",
              "      <td>2 - Medium</td>\n",
              "      <td>2 - Medium</td>\n",
              "      <td>3 - Moderate</td>\n",
              "      <td>Group 70</td>\n",
              "      <td>Resolver 89</td>\n",
              "      <td>True</td>\n",
              "      <td>False</td>\n",
              "      <td>Do Not Notify</td>\n",
              "      <td>?</td>\n",
              "      <td>?</td>\n",
              "      <td>?</td>\n",
              "      <td>?</td>\n",
              "      <td>code 5</td>\n",
              "      <td>Resolved by 81</td>\n",
              "      <td>1/3/2016 09:52</td>\n",
              "      <td>6/3/2016 10:00</td>\n",
              "    </tr>\n",
              "    <tr>\n",
              "      <th>...</th>\n",
              "      <td>...</td>\n",
              "      <td>...</td>\n",
              "      <td>...</td>\n",
              "      <td>...</td>\n",
              "      <td>...</td>\n",
              "      <td>...</td>\n",
              "      <td>...</td>\n",
              "      <td>...</td>\n",
              "      <td>...</td>\n",
              "      <td>...</td>\n",
              "      <td>...</td>\n",
              "      <td>...</td>\n",
              "      <td>...</td>\n",
              "      <td>...</td>\n",
              "      <td>...</td>\n",
              "      <td>...</td>\n",
              "      <td>...</td>\n",
              "      <td>...</td>\n",
              "      <td>...</td>\n",
              "      <td>...</td>\n",
              "      <td>...</td>\n",
              "      <td>...</td>\n",
              "      <td>...</td>\n",
              "      <td>...</td>\n",
              "      <td>...</td>\n",
              "      <td>...</td>\n",
              "      <td>...</td>\n",
              "      <td>...</td>\n",
              "      <td>...</td>\n",
              "      <td>...</td>\n",
              "      <td>...</td>\n",
              "      <td>...</td>\n",
              "      <td>...</td>\n",
              "      <td>...</td>\n",
              "      <td>...</td>\n",
              "      <td>...</td>\n",
              "    </tr>\n",
              "    <tr>\n",
              "      <th>141707</th>\n",
              "      <td>INC0120835</td>\n",
              "      <td>Closed</td>\n",
              "      <td>False</td>\n",
              "      <td>1</td>\n",
              "      <td>0</td>\n",
              "      <td>4</td>\n",
              "      <td>True</td>\n",
              "      <td>Caller 116</td>\n",
              "      <td>Opened by  12</td>\n",
              "      <td>16/2/2017 09:09</td>\n",
              "      <td>?</td>\n",
              "      <td>?</td>\n",
              "      <td>Updated by 27</td>\n",
              "      <td>16/2/2017 09:53</td>\n",
              "      <td>Email</td>\n",
              "      <td>Location 204</td>\n",
              "      <td>Category 42</td>\n",
              "      <td>Subcategory 223</td>\n",
              "      <td>Symptom 494</td>\n",
              "      <td>?</td>\n",
              "      <td>2 - Medium</td>\n",
              "      <td>2 - Medium</td>\n",
              "      <td>3 - Moderate</td>\n",
              "      <td>Group 31</td>\n",
              "      <td>Resolver 10</td>\n",
              "      <td>False</td>\n",
              "      <td>True</td>\n",
              "      <td>Do Not Notify</td>\n",
              "      <td>?</td>\n",
              "      <td>?</td>\n",
              "      <td>?</td>\n",
              "      <td>?</td>\n",
              "      <td>code 9</td>\n",
              "      <td>Resolved by 9</td>\n",
              "      <td>16/2/2017 09:53</td>\n",
              "      <td>16/2/2017 09:53</td>\n",
              "    </tr>\n",
              "    <tr>\n",
              "      <th>141708</th>\n",
              "      <td>INC0121064</td>\n",
              "      <td>Active</td>\n",
              "      <td>True</td>\n",
              "      <td>0</td>\n",
              "      <td>0</td>\n",
              "      <td>0</td>\n",
              "      <td>True</td>\n",
              "      <td>Caller 116</td>\n",
              "      <td>Opened by  12</td>\n",
              "      <td>16/2/2017 14:17</td>\n",
              "      <td>?</td>\n",
              "      <td>?</td>\n",
              "      <td>Updated by 908</td>\n",
              "      <td>16/2/2017 14:17</td>\n",
              "      <td>Email</td>\n",
              "      <td>Location 204</td>\n",
              "      <td>Category 42</td>\n",
              "      <td>Subcategory 223</td>\n",
              "      <td>Symptom 494</td>\n",
              "      <td>?</td>\n",
              "      <td>2 - Medium</td>\n",
              "      <td>2 - Medium</td>\n",
              "      <td>3 - Moderate</td>\n",
              "      <td>Group 70</td>\n",
              "      <td>Resolver 10</td>\n",
              "      <td>False</td>\n",
              "      <td>False</td>\n",
              "      <td>Do Not Notify</td>\n",
              "      <td>?</td>\n",
              "      <td>?</td>\n",
              "      <td>?</td>\n",
              "      <td>?</td>\n",
              "      <td>code 6</td>\n",
              "      <td>Resolved by 9</td>\n",
              "      <td>16/2/2017 16:38</td>\n",
              "      <td>16/2/2017 16:38</td>\n",
              "    </tr>\n",
              "    <tr>\n",
              "      <th>141709</th>\n",
              "      <td>INC0121064</td>\n",
              "      <td>Active</td>\n",
              "      <td>True</td>\n",
              "      <td>1</td>\n",
              "      <td>0</td>\n",
              "      <td>1</td>\n",
              "      <td>True</td>\n",
              "      <td>Caller 116</td>\n",
              "      <td>Opened by  12</td>\n",
              "      <td>16/2/2017 14:17</td>\n",
              "      <td>?</td>\n",
              "      <td>?</td>\n",
              "      <td>Updated by 60</td>\n",
              "      <td>16/2/2017 15:20</td>\n",
              "      <td>Email</td>\n",
              "      <td>Location 204</td>\n",
              "      <td>Category 42</td>\n",
              "      <td>Subcategory 223</td>\n",
              "      <td>Symptom 494</td>\n",
              "      <td>?</td>\n",
              "      <td>2 - Medium</td>\n",
              "      <td>2 - Medium</td>\n",
              "      <td>3 - Moderate</td>\n",
              "      <td>Group 31</td>\n",
              "      <td>?</td>\n",
              "      <td>False</td>\n",
              "      <td>False</td>\n",
              "      <td>Do Not Notify</td>\n",
              "      <td>?</td>\n",
              "      <td>?</td>\n",
              "      <td>?</td>\n",
              "      <td>?</td>\n",
              "      <td>code 6</td>\n",
              "      <td>Resolved by 9</td>\n",
              "      <td>16/2/2017 16:38</td>\n",
              "      <td>16/2/2017 16:38</td>\n",
              "    </tr>\n",
              "    <tr>\n",
              "      <th>141710</th>\n",
              "      <td>INC0121064</td>\n",
              "      <td>Resolved</td>\n",
              "      <td>True</td>\n",
              "      <td>1</td>\n",
              "      <td>0</td>\n",
              "      <td>2</td>\n",
              "      <td>True</td>\n",
              "      <td>Caller 116</td>\n",
              "      <td>Opened by  12</td>\n",
              "      <td>16/2/2017 14:17</td>\n",
              "      <td>?</td>\n",
              "      <td>?</td>\n",
              "      <td>Updated by 27</td>\n",
              "      <td>16/2/2017 16:38</td>\n",
              "      <td>Email</td>\n",
              "      <td>Location 204</td>\n",
              "      <td>Category 42</td>\n",
              "      <td>Subcategory 223</td>\n",
              "      <td>Symptom 494</td>\n",
              "      <td>?</td>\n",
              "      <td>2 - Medium</td>\n",
              "      <td>2 - Medium</td>\n",
              "      <td>3 - Moderate</td>\n",
              "      <td>Group 31</td>\n",
              "      <td>Resolver 10</td>\n",
              "      <td>False</td>\n",
              "      <td>True</td>\n",
              "      <td>Do Not Notify</td>\n",
              "      <td>?</td>\n",
              "      <td>?</td>\n",
              "      <td>?</td>\n",
              "      <td>?</td>\n",
              "      <td>code 6</td>\n",
              "      <td>Resolved by 9</td>\n",
              "      <td>16/2/2017 16:38</td>\n",
              "      <td>16/2/2017 16:38</td>\n",
              "    </tr>\n",
              "    <tr>\n",
              "      <th>141711</th>\n",
              "      <td>INC0121064</td>\n",
              "      <td>Closed</td>\n",
              "      <td>False</td>\n",
              "      <td>1</td>\n",
              "      <td>0</td>\n",
              "      <td>3</td>\n",
              "      <td>True</td>\n",
              "      <td>Caller 116</td>\n",
              "      <td>Opened by  12</td>\n",
              "      <td>16/2/2017 14:17</td>\n",
              "      <td>?</td>\n",
              "      <td>?</td>\n",
              "      <td>Updated by 27</td>\n",
              "      <td>16/2/2017 16:38</td>\n",
              "      <td>Email</td>\n",
              "      <td>Location 204</td>\n",
              "      <td>Category 42</td>\n",
              "      <td>Subcategory 223</td>\n",
              "      <td>Symptom 494</td>\n",
              "      <td>?</td>\n",
              "      <td>2 - Medium</td>\n",
              "      <td>2 - Medium</td>\n",
              "      <td>3 - Moderate</td>\n",
              "      <td>Group 31</td>\n",
              "      <td>Resolver 10</td>\n",
              "      <td>False</td>\n",
              "      <td>True</td>\n",
              "      <td>Do Not Notify</td>\n",
              "      <td>?</td>\n",
              "      <td>?</td>\n",
              "      <td>?</td>\n",
              "      <td>?</td>\n",
              "      <td>code 6</td>\n",
              "      <td>Resolved by 9</td>\n",
              "      <td>16/2/2017 16:38</td>\n",
              "      <td>16/2/2017 16:38</td>\n",
              "    </tr>\n",
              "  </tbody>\n",
              "</table>\n",
              "<p>141712 rows × 36 columns</p>\n",
              "</div>"
            ],
            "text/plain": [
              "            number incident_state  ...      resolved_at        closed_at\n",
              "0       INC0000045            New  ...  29/2/2016 11:29   5/3/2016 12:00\n",
              "1       INC0000045       Resolved  ...  29/2/2016 11:29   5/3/2016 12:00\n",
              "2       INC0000045       Resolved  ...  29/2/2016 11:29   5/3/2016 12:00\n",
              "3       INC0000045         Closed  ...  29/2/2016 11:29   5/3/2016 12:00\n",
              "4       INC0000047            New  ...   1/3/2016 09:52   6/3/2016 10:00\n",
              "...            ...            ...  ...              ...              ...\n",
              "141707  INC0120835         Closed  ...  16/2/2017 09:53  16/2/2017 09:53\n",
              "141708  INC0121064         Active  ...  16/2/2017 16:38  16/2/2017 16:38\n",
              "141709  INC0121064         Active  ...  16/2/2017 16:38  16/2/2017 16:38\n",
              "141710  INC0121064       Resolved  ...  16/2/2017 16:38  16/2/2017 16:38\n",
              "141711  INC0121064         Closed  ...  16/2/2017 16:38  16/2/2017 16:38\n",
              "\n",
              "[141712 rows x 36 columns]"
            ]
          },
          "metadata": {
            "tags": []
          },
          "execution_count": 4
        }
      ]
    },
    {
      "cell_type": "code",
      "metadata": {
        "id": "YPi4Pi87Sfxn",
        "colab_type": "code",
        "colab": {
          "base_uri": "https://localhost:8080/",
          "height": 390
        },
        "outputId": "93ac559a-10fe-4ee8-bdd3-7602a660d4f4"
      },
      "source": [
        "import seaborn as sns\n",
        "corr = df.corr()\n",
        "sns.heatmap(corr, \n",
        "            xticklabels=corr.columns.values,\n",
        "            yticklabels=corr.columns.values)"
      ],
      "execution_count": 7,
      "outputs": [
        {
          "output_type": "execute_result",
          "data": {
            "text/plain": [
              "<matplotlib.axes._subplots.AxesSubplot at 0x7fc2252beda0>"
            ]
          },
          "metadata": {
            "tags": []
          },
          "execution_count": 7
        },
        {
          "output_type": "display_data",
          "data": {
            "image/png": "[encoded data removed]",
            "text/plain": [
              "<Figure size 432x288 with 2 Axes>"
            ]
          },
          "metadata": {
            "tags": []
          }
        }
      ]
    },
    {
      "cell_type": "markdown",
      "metadata": {
        "id": "eqw_nGtmiZn6",
        "colab_type": "text"
      },
      "source": [
        "##Dimension & Visualisation des données"
      ]
    },
    {
      "cell_type": "code",
      "metadata": {
        "id": "UcjYqU4clUyg",
        "colab_type": "code",
        "outputId": "8867fb1d-a7d6-44e1-b9e7-d01afcf1f6a1",
        "colab": {
          "base_uri": "https://localhost:8080/",
          "height": 365
        }
      },
      "source": [
        "print(f'df_describe :\\n {df.describe()}\\n')\n",
        "categorical = [col for col in df.columns if df[col].dtype==object]\n",
        "numerical = [col for col in df.columns if df[col].dtype==int]\n",
        "boolean = [col for col in df.columns if df[col].dtype==bool]\n",
        "print(f'categorical colums : {categorical} \\nlen_categorical : {len(categorical)}\\n')\n",
        "print(f'numericl columns : {numerical} \\nlen_numerical : {len(numerical)}\\n')\n",
        "print(f'boolean columns : {boolean} \\nlen_boolean : {len(boolean)}\\n')"
      ],
      "execution_count": 8,
      "outputs": [
        {
          "output_type": "stream",
          "text": [
            "df_describe :\n",
            "        reassignment_count   reopen_count  sys_mod_count\n",
            "count       141712.000000  141712.000000  141712.000000\n",
            "mean             1.104197       0.021918       5.080946\n",
            "std              1.734673       0.207302       7.680652\n",
            "min              0.000000       0.000000       0.000000\n",
            "25%              0.000000       0.000000       1.000000\n",
            "50%              1.000000       0.000000       3.000000\n",
            "75%              1.000000       0.000000       6.000000\n",
            "max             27.000000       8.000000     129.000000\n",
            "\n",
            "categorical colums : ['number', 'incident_state', 'caller_id', 'opened_by', 'opened_at', 'sys_created_by', 'sys_created_at', 'sys_updated_by', 'sys_updated_at', 'contact_type', 'location', 'category', 'subcategory', 'u_symptom', 'cmdb_ci', 'impact', 'urgency', 'priority', 'assignment_group', 'assigned_to', 'notify', 'problem_id', 'rfc', 'vendor', 'caused_by', 'closed_code', 'resolved_by', 'resolved_at', 'closed_at'] \n",
            "len_categorical : 29\n",
            "\n",
            "numericl columns : ['reassignment_count', 'reopen_count', 'sys_mod_count'] \n",
            "len_numerical : 3\n",
            "\n",
            "boolean columns : ['active', 'made_sla', 'knowledge', 'u_priority_confirmation'] \n",
            "len_boolean : 4\n",
            "\n"
          ],
          "name": "stdout"
        }
      ]
    },
    {
      "cell_type": "code",
      "metadata": {
        "id": "yOSmlaL0lYFx",
        "colab_type": "code",
        "outputId": "cdd99d80-11c5-4edc-b195-446bf5e51a29",
        "colab": {
          "base_uri": "https://localhost:8080/",
          "height": 992
        }
      },
      "source": [
        "#Check the unique values\n",
        "X = df.copy()\n",
        "import seaborn as sns\n",
        "nu = X.nunique().reset_index()\n",
        "nu.columns = ['features', 'uniques']\n",
        "ax = sns.barplot(x='features', y='uniques', data=nu)\n",
        "ax.tick_params(axis='x', rotation=90)\n",
        "print(nu)"
      ],
      "execution_count": 9,
      "outputs": [
        {
          "output_type": "stream",
          "text": [
            "                   features  uniques\n",
            "0                    number    24918\n",
            "1            incident_state        9\n",
            "2                    active        2\n",
            "3        reassignment_count       28\n",
            "4              reopen_count        9\n",
            "5             sys_mod_count      115\n",
            "6                  made_sla        2\n",
            "7                 caller_id     5245\n",
            "8                 opened_by      208\n",
            "9                 opened_at    19849\n",
            "10           sys_created_by      186\n",
            "11           sys_created_at    11553\n",
            "12           sys_updated_by      846\n",
            "13           sys_updated_at    50664\n",
            "14             contact_type        5\n",
            "15                 location      225\n",
            "16                 category       59\n",
            "17              subcategory      255\n",
            "18                u_symptom      526\n",
            "19                  cmdb_ci       51\n",
            "20                   impact        3\n",
            "21                  urgency        3\n",
            "22                 priority        4\n",
            "23         assignment_group       79\n",
            "24              assigned_to      235\n",
            "25                knowledge        2\n",
            "26  u_priority_confirmation        2\n",
            "27                   notify        2\n",
            "28               problem_id      253\n",
            "29                      rfc      182\n",
            "30                   vendor        5\n",
            "31                caused_by        4\n",
            "32              closed_code       18\n",
            "33              resolved_by      217\n",
            "34              resolved_at    18506\n",
            "35                closed_at     2707\n"
          ],
          "name": "stdout"
        },
        {
          "output_type": "display_data",
          "data": {
            "image/png": "[encoded data removed]",
            "text/plain": [
              "<Figure size 432x288 with 1 Axes>"
            ]
          },
          "metadata": {
            "tags": []
          }
        }
      ]
    },
    {
      "cell_type": "markdown",
      "metadata": {
        "id": "s_jZh_oWZG_w",
        "colab_type": "text"
      },
      "source": [
        "# Pretraitement et Feature engineering "
      ]
    },
    {
      "cell_type": "markdown",
      "metadata": {
        "id": "nvpEnhWelNs5",
        "colab_type": "text"
      },
      "source": [
        "###Data normalisation"
      ]
    },
    {
      "cell_type": "code",
      "metadata": {
        "id": "l2YuTq0_nOR3",
        "colab_type": "code",
        "outputId": "6891b1c1-96c1-45e0-d9d6-787d9261976a",
        "colab": {
          "base_uri": "https://localhost:8080/",
          "height": 52
        }
      },
      "source": [
        "'''# replace (original value) by (original value)/(maximum value)\n",
        "df['reassignment_count'] = df['reassignment_count']/df['reassignment_count'].max()\n",
        "df['reopen_count'] = df['reopen_count']/df['reopen_count'].max()\n",
        "df['sys_mod_count'] = df['sys_mod_count']/df['sys_mod_count'].max()'''"
      ],
      "execution_count": 10,
      "outputs": [
        {
          "output_type": "execute_result",
          "data": {
            "text/plain": [
              "\"# replace (original value) by (original value)/(maximum value)\\ndf['reassignment_count'] = df['reassignment_count']/df['reassignment_count'].max()\\ndf['reopen_count'] = df['reopen_count']/df['reopen_count'].max()\\ndf['sys_mod_count'] = df['sys_mod_count']/df['sys_mod_count'].max()\""
            ]
          },
          "metadata": {
            "tags": []
          },
          "execution_count": 10
        }
      ]
    },
    {
      "cell_type": "markdown",
      "metadata": {
        "id": "DN5ay46rnfe_",
        "colab_type": "text"
      },
      "source": [
        "###Identifier et traiter les valeurs manquantes"
      ]
    },
    {
      "cell_type": "code",
      "metadata": {
        "id": "d78HRWmIoE7S",
        "colab_type": "code",
        "colab": {}
      },
      "source": [
        "df.replace(\"?\", np.nan, inplace = True)"
      ],
      "execution_count": 0,
      "outputs": []
    },
    {
      "cell_type": "code",
      "metadata": {
        "id": "pAUq_LNPniKO",
        "colab_type": "code",
        "outputId": "78a243f6-4939-4941-c202-18fa08a0c881",
        "colab": {
          "base_uri": "https://localhost:8080/",
          "height": 49
        }
      },
      "source": [
        "# Get null values and dataframe information\n",
        "print('Nan Values In DataFrame: {}\\n'.format(df.isna().sum().sum()))"
      ],
      "execution_count": 12,
      "outputs": [
        {
          "output_type": "stream",
          "text": [
            "Nan Values In DataFrame: 894597\n",
            "\n"
          ],
          "name": "stdout"
        }
      ]
    },
    {
      "cell_type": "code",
      "metadata": {
        "id": "vMMJtekkojUy",
        "colab_type": "code",
        "outputId": "9abadca4-5e73-4bee-823e-f1da62bdc69c",
        "colab": {
          "base_uri": "https://localhost:8080/",
          "height": 642
        }
      },
      "source": [
        "# Get null values and dataframe information\n",
        "print('Nan Values In DataFrame: {}\\n'.format(df.isna().sum()))"
      ],
      "execution_count": 13,
      "outputs": [
        {
          "output_type": "stream",
          "text": [
            "Nan Values In DataFrame: number                          0\n",
            "incident_state                  0\n",
            "active                          0\n",
            "reassignment_count              0\n",
            "reopen_count                    0\n",
            "sys_mod_count                   0\n",
            "made_sla                        0\n",
            "caller_id                      29\n",
            "opened_by                    4835\n",
            "opened_at                       0\n",
            "sys_created_by              53076\n",
            "sys_created_at              53076\n",
            "sys_updated_by                  0\n",
            "sys_updated_at                  0\n",
            "contact_type                    0\n",
            "location                       76\n",
            "category                       78\n",
            "subcategory                   111\n",
            "u_symptom                   32964\n",
            "cmdb_ci                    141267\n",
            "impact                          0\n",
            "urgency                         0\n",
            "priority                        0\n",
            "assignment_group            14213\n",
            "assigned_to                 27496\n",
            "knowledge                       0\n",
            "u_priority_confirmation         0\n",
            "notify                          0\n",
            "problem_id                 139417\n",
            "rfc                        140721\n",
            "vendor                     141468\n",
            "caused_by                  141689\n",
            "closed_code                   714\n",
            "resolved_by                   226\n",
            "resolved_at                  3141\n",
            "closed_at                       0\n",
            "dtype: int64\n",
            "\n"
          ],
          "name": "stdout"
        }
      ]
    },
    {
      "cell_type": "code",
      "metadata": {
        "id": "wq709oIDodgN",
        "colab_type": "code",
        "colab": {}
      },
      "source": [
        "missing_data = df.isnull()"
      ],
      "execution_count": 0,
      "outputs": []
    },
    {
      "cell_type": "code",
      "metadata": {
        "id": "DH18aKbCniDc",
        "colab_type": "code",
        "outputId": "13d1e930-75ed-431a-aad1-c8673d55f134",
        "colab": {
          "base_uri": "https://localhost:8080/",
          "height": 1000
        }
      },
      "source": [
        "for column in missing_data.columns.values.tolist():\n",
        "    print(column)\n",
        "    print (missing_data[column].value_counts())\n",
        "    print(\"\")  "
      ],
      "execution_count": 15,
      "outputs": [
        {
          "output_type": "stream",
          "text": [
            "number\n",
            "False    141712\n",
            "Name: number, dtype: int64\n",
            "\n",
            "incident_state\n",
            "False    141712\n",
            "Name: incident_state, dtype: int64\n",
            "\n",
            "active\n",
            "False    141712\n",
            "Name: active, dtype: int64\n",
            "\n",
            "reassignment_count\n",
            "False    141712\n",
            "Name: reassignment_count, dtype: int64\n",
            "\n",
            "reopen_count\n",
            "False    141712\n",
            "Name: reopen_count, dtype: int64\n",
            "\n",
            "sys_mod_count\n",
            "False    141712\n",
            "Name: sys_mod_count, dtype: int64\n",
            "\n",
            "made_sla\n",
            "False    141712\n",
            "Name: made_sla, dtype: int64\n",
            "\n",
            "caller_id\n",
            "False    141683\n",
            "True         29\n",
            "Name: caller_id, dtype: int64\n",
            "\n",
            "opened_by\n",
            "False    136877\n",
            "True       4835\n",
            "Name: opened_by, dtype: int64\n",
            "\n",
            "opened_at\n",
            "False    141712\n",
            "Name: opened_at, dtype: int64\n",
            "\n",
            "sys_created_by\n",
            "False    88636\n",
            "True     53076\n",
            "Name: sys_created_by, dtype: int64\n",
            "\n",
            "sys_created_at\n",
            "False    88636\n",
            "True     53076\n",
            "Name: sys_created_at, dtype: int64\n",
            "\n",
            "sys_updated_by\n",
            "False    141712\n",
            "Name: sys_updated_by, dtype: int64\n",
            "\n",
            "sys_updated_at\n",
            "False    141712\n",
            "Name: sys_updated_at, dtype: int64\n",
            "\n",
            "contact_type\n",
            "False    141712\n",
            "Name: contact_type, dtype: int64\n",
            "\n",
            "location\n",
            "False    141636\n",
            "True         76\n",
            "Name: location, dtype: int64\n",
            "\n",
            "category\n",
            "False    141634\n",
            "True         78\n",
            "Name: category, dtype: int64\n",
            "\n",
            "subcategory\n",
            "False    141601\n",
            "True        111\n",
            "Name: subcategory, dtype: int64\n",
            "\n",
            "u_symptom\n",
            "False    108748\n",
            "True      32964\n",
            "Name: u_symptom, dtype: int64\n",
            "\n",
            "cmdb_ci\n",
            "True     141267\n",
            "False       445\n",
            "Name: cmdb_ci, dtype: int64\n",
            "\n",
            "impact\n",
            "False    141712\n",
            "Name: impact, dtype: int64\n",
            "\n",
            "urgency\n",
            "False    141712\n",
            "Name: urgency, dtype: int64\n",
            "\n",
            "priority\n",
            "False    141712\n",
            "Name: priority, dtype: int64\n",
            "\n",
            "assignment_group\n",
            "False    127499\n",
            "True      14213\n",
            "Name: assignment_group, dtype: int64\n",
            "\n",
            "assigned_to\n",
            "False    114216\n",
            "True      27496\n",
            "Name: assigned_to, dtype: int64\n",
            "\n",
            "knowledge\n",
            "False    141712\n",
            "Name: knowledge, dtype: int64\n",
            "\n",
            "u_priority_confirmation\n",
            "False    141712\n",
            "Name: u_priority_confirmation, dtype: int64\n",
            "\n",
            "notify\n",
            "False    141712\n",
            "Name: notify, dtype: int64\n",
            "\n",
            "problem_id\n",
            "True     139417\n",
            "False      2295\n",
            "Name: problem_id, dtype: int64\n",
            "\n",
            "rfc\n",
            "True     140721\n",
            "False       991\n",
            "Name: rfc, dtype: int64\n",
            "\n",
            "vendor\n",
            "True     141468\n",
            "False       244\n",
            "Name: vendor, dtype: int64\n",
            "\n",
            "caused_by\n",
            "True     141689\n",
            "False        23\n",
            "Name: caused_by, dtype: int64\n",
            "\n",
            "closed_code\n",
            "False    140998\n",
            "True        714\n",
            "Name: closed_code, dtype: int64\n",
            "\n",
            "resolved_by\n",
            "False    141486\n",
            "True        226\n",
            "Name: resolved_by, dtype: int64\n",
            "\n",
            "resolved_at\n",
            "False    138571\n",
            "True       3141\n",
            "Name: resolved_at, dtype: int64\n",
            "\n",
            "closed_at\n",
            "False    141712\n",
            "Name: closed_at, dtype: int64\n",
            "\n"
          ],
          "name": "stdout"
        }
      ]
    },
    {
      "cell_type": "code",
      "metadata": {
        "id": "_W8q2mWanh9N",
        "colab_type": "code",
        "colab": {}
      },
      "source": [
        "df[[\"caller_id\"]] = df[[\"caller_id\"]].astype(\"str\")\n",
        "df[\"caller_id\"].replace(np.nan, \"nan\", inplace=True) # 29 nan\n",
        "\n",
        "df[[\"opened_by\"]] = df[[\"opened_by\"]].astype(\"str\")\n",
        "df[\"opened_by\"].replace(np.nan, \"nan\", inplace=True) # 4835 nan\n",
        "\n",
        "df[[\"sys_created_by\"]] = df[[\"sys_created_by\"]].astype(\"str\")\n",
        "df[\"sys_created_by\"].replace(np.nan, \"nan\", inplace=True) # 53076 nan\n",
        "\n",
        "df[[\"sys_created_at\"]] = df[[\"sys_created_at\"]].astype(\"str\")\n",
        "df[\"sys_created_at\"].replace(np.nan, \"nan\", inplace=True) # 53076 nan\n",
        "\n",
        "df[[\"location\"]] = df[[\"location\"]].astype(\"str\")\n",
        "df[\"location\"].replace(np.nan, \"nan\", inplace=True) # 76 nan\n",
        "\n",
        "df[[\"category\"]] = df[[\"category\"]].astype(\"str\")\n",
        "df[\"category\"].replace(np.nan, \"nan\", inplace=True) # 78 nan\n",
        "\n",
        "df[[\"subcategory\"]] = df[[\"subcategory\"]].astype(\"str\")\n",
        "df[\"subcategory\"].replace(np.nan, \"nan\", inplace=True) # 111 nan\n",
        "\n",
        "df[[\"u_symptom\"]] = df[[\"u_symptom\"]].astype(\"str\")\n",
        "df[\"u_symptom\"].replace(np.nan, \"nan\", inplace=True) # 32964 nan\n",
        "\n",
        "df[[\"cmdb_ci\"]] = df[[\"cmdb_ci\"]].astype(\"str\")\n",
        "df[\"cmdb_ci\"].replace(np.nan, \"nan\", inplace=True) # 445 nan\n",
        "\n",
        "df[[\"assignment_group\"]] = df[[\"assignment_group\"]].astype(\"str\")\n",
        "df[\"assignment_group\"].replace(np.nan, \"nan\", inplace=True) # 14213 nan\n",
        "\n",
        "df['assigned_to'] = df['assigned_to'].astype(\"str\")\n",
        "df[\"assigned_to\"].replace(np.nan, \"nan\", inplace=True) # 14213 nan\n",
        "\n",
        "df[[\"problem_id\"]] = df[[\"problem_id\"]].astype(\"str\")\n",
        "df[\"problem_id\"].replace(np.nan, \"nan\", inplace=True) # 2295 nan\n",
        "\n",
        "df[[\"rfc\"]] = df[[\"rfc\"]].astype(\"str\")\n",
        "df[\"rfc\"].replace(np.nan, \"nan\", inplace=True) # 991 nan\n",
        "\n",
        "df[[\"vendor\"]] = df[[\"vendor\"]].astype(\"str\")\n",
        "df[\"vendor\"].replace(np.nan, \"nan\", inplace=True) # 244 nan\n",
        "\n",
        "df[[\"caused_by\"]] = df[[\"caused_by\"]].astype(\"str\")\n",
        "df[\"caused_by\"].replace(np.nan, \"nan\", inplace=True) # 23 nan\n",
        "\n",
        "df[[\"closed_code\"]] = df[[\"closed_code\"]].astype(\"str\")\n",
        "df[\"closed_code\"].replace(np.nan, \"nan\", inplace=True) # 714 nan\n",
        "\n",
        "df[[\"resolved_by\"]] = df[[\"resolved_by\"]].astype(\"str\")\n",
        "df[\"resolved_by\"].replace(np.nan, \"nan\", inplace=True) # 226 nan\n",
        "\n",
        "df[[\"resolved_at\"]] = df[[\"resolved_at\"]].astype(\"str\") # Date\n",
        "df[\"resolved_at\"].replace(np.nan, \"nan\", inplace=True) # 3141 nan"
      ],
      "execution_count": 0,
      "outputs": []
    },
    {
      "cell_type": "code",
      "metadata": {
        "id": "ri3JxLjGpvtk",
        "colab_type": "code",
        "outputId": "31926075-d3a9-4d74-aec3-485d4819645c",
        "colab": {
          "base_uri": "https://localhost:8080/",
          "height": 49
        }
      },
      "source": [
        "# Get null values and dataframe information\n",
        "print('Nan Values In DataFrame: {}\\n'.format(df.isna().sum().sum()))"
      ],
      "execution_count": 17,
      "outputs": [
        {
          "output_type": "stream",
          "text": [
            "Nan Values In DataFrame: 0\n",
            "\n"
          ],
          "name": "stdout"
        }
      ]
    },
    {
      "cell_type": "markdown",
      "metadata": {
        "id": "vHQgECPfqQAc",
        "colab_type": "text"
      },
      "source": [
        "### Feature engineering "
      ]
    },
    {
      "cell_type": "markdown",
      "metadata": {
        "id": "gsI_udke2274",
        "colab_type": "text"
      },
      "source": [
        "#### Creation jour, mois et annees"
      ]
    },
    {
      "cell_type": "code",
      "metadata": {
        "id": "CaElRDSgc6Vs",
        "colab_type": "code",
        "colab": {}
      },
      "source": [
        "train = df.copy()"
      ],
      "execution_count": 0,
      "outputs": []
    },
    {
      "cell_type": "code",
      "metadata": {
        "id": "njqY-bOkdyci",
        "colab_type": "code",
        "colab": {}
      },
      "source": [
        "def to_weekday(weekday_conv):\n",
        "  weekDays = (\"Lundi\",\"Mardi\",\"Mercredi\",\"Jeudi\",\"Vendredi\",\"Samedi\",\"Dimanche\")\n",
        "  return weekDays[weekday_conv]"
      ],
      "execution_count": 0,
      "outputs": []
    },
    {
      "cell_type": "code",
      "metadata": {
        "id": "3KIpBwEde_eJ",
        "colab_type": "code",
        "colab": {}
      },
      "source": [
        "def to_month(months_conv):\n",
        "  months = (\"Janvier\",\"Fevrier\",\"Mars\",\"Avril\",\"Mai\",\"Juin\",\"Juillet\",\"Aout\",\"Septembre\",\"octobre\",\"novembre\",\"decembre\")\n",
        "  return months[months_conv-1]"
      ],
      "execution_count": 0,
      "outputs": []
    },
    {
      "cell_type": "code",
      "metadata": {
        "id": "1gPQR3wxZU5O",
        "colab_type": "code",
        "colab": {}
      },
      "source": [
        "def _add_date_features(df , variable):\n",
        "  df[variable] = df[variable].astype(str)\n",
        "  df[variable] = pd.to_datetime(df[variable], dayfirst=True)\n",
        "  \n",
        "  at_year = variable + \"_year\"\n",
        "  at_month = variable + \"_month\"\n",
        "  at_day = variable + \"_day\"\n",
        "  at_weekday = variable + \"_weekday\"\n",
        "  at_hour = variable + \"_hour\"\n",
        "\n",
        "\n",
        "  df[at_year]   = df[variable].dt.year\n",
        "  df[at_month]   = df[variable].dt.month\n",
        "  df[at_day]     = df[variable].dt.day\n",
        "  df[at_weekday] = df[variable].dt.weekday\n",
        "  df[at_hour] = df[variable].dt.hour\n",
        "\n",
        "  df[at_weekday] = df[at_weekday].apply(lambda x : to_weekday(x))\n",
        "  df[at_month]   = df[at_month].apply(lambda x : to_month(x))\n",
        "\n",
        "  return df "
      ],
      "execution_count": 0,
      "outputs": []
    },
    {
      "cell_type": "code",
      "metadata": {
        "id": "NOnEr3fDgnD-",
        "colab_type": "code",
        "colab": {}
      },
      "source": [
        "train = _add_date_features(train,'opened_at')\n",
        "#train = _add_date_features(train,'sys_created_at')\n",
        "train = _add_date_features(train,'sys_updated_at')\n",
        "train = _add_date_features(train,'closed_at')"
      ],
      "execution_count": 0,
      "outputs": []
    },
    {
      "cell_type": "markdown",
      "metadata": {
        "id": "AvMB9GJd3ACO",
        "colab_type": "text"
      },
      "source": [
        "####Creation temps restant"
      ]
    },
    {
      "cell_type": "code",
      "metadata": {
        "id": "j5Ycw6bE0iOH",
        "colab_type": "code",
        "colab": {}
      },
      "source": [
        "#train['delay'] = train['closed_at']-train['opened_at']"
      ],
      "execution_count": 0,
      "outputs": []
    },
    {
      "cell_type": "code",
      "metadata": {
        "id": "_WukpfOjN8NR",
        "colab_type": "code",
        "colab": {}
      },
      "source": [
        "train['delay'] = train['closed_at']-train['sys_updated_at']"
      ],
      "execution_count": 0,
      "outputs": []
    },
    {
      "cell_type": "code",
      "metadata": {
        "id": "yrVEh8-E1Ilv",
        "colab_type": "code",
        "colab": {}
      },
      "source": [
        "def delay_to_hours(date):\n",
        "  days = date.days\n",
        "  hours, remainder = divmod(date.seconds, 3600)\n",
        "  minutes, seconds = divmod(remainder, 60)\n",
        "  return days*24+hours+minutes/60"
      ],
      "execution_count": 0,
      "outputs": []
    },
    {
      "cell_type": "code",
      "metadata": {
        "id": "wAmWs_Llw1Kh",
        "colab_type": "code",
        "colab": {}
      },
      "source": [
        "train['delay']=train['delay'].apply(lambda x : delay_to_hours(x))"
      ],
      "execution_count": 0,
      "outputs": []
    },
    {
      "cell_type": "code",
      "metadata": {
        "id": "sgRd_0x2_jBF",
        "colab_type": "code",
        "colab": {}
      },
      "source": [
        "train['delay']=np.log(train['delay']+1)"
      ],
      "execution_count": 0,
      "outputs": []
    },
    {
      "cell_type": "markdown",
      "metadata": {
        "id": "1H4wLmtCOxEx",
        "colab_type": "text"
      },
      "source": [
        "####\"impact\"\t\"urgency\"\t\"priority\" a int car une relation d'ordre existe"
      ]
    },
    {
      "cell_type": "code",
      "metadata": {
        "id": "zIP2rLZfQ7Le",
        "colab_type": "code",
        "colab": {}
      },
      "source": [
        "train['impact'] = train['impact'].apply(lambda x : int(x[0]))\n",
        "train['urgency'] = train['urgency'].apply(lambda x : int(x[0]))\n",
        "train['priority'] = train['priority'].apply(lambda x : int(x[0]))"
      ],
      "execution_count": 0,
      "outputs": []
    },
    {
      "cell_type": "markdown",
      "metadata": {
        "id": "syl-Y4723TNo",
        "colab_type": "text"
      },
      "source": [
        "#### Dummies pour les colonnes a plusieur categories car as.factors n'existe pas en python"
      ]
    },
    {
      "cell_type": "code",
      "metadata": {
        "id": "yOchpGnQ60Ti",
        "colab_type": "code",
        "colab": {}
      },
      "source": [
        "def _add_column_dummies(df , variable):\n",
        "  dummy_variable_1 = pd.get_dummies(df[variable])\n",
        "  df = df.drop([variable], axis=1)\n",
        "  df = pd.concat([df, dummy_variable_1], axis=1)\n",
        "  return df "
      ],
      "execution_count": 0,
      "outputs": []
    },
    {
      "cell_type": "code",
      "metadata": {
        "id": "V1Kj7rIu9zBa",
        "colab_type": "code",
        "colab": {}
      },
      "source": [
        "#train = _add_column_dummies(train , \"incident_state\")\n",
        "train = _add_column_dummies(train , \"contact_type\")\n",
        "train = _add_column_dummies(train , \"cmdb_ci\")\n",
        "train = _add_column_dummies(train , \"vendor\")\n",
        "train = _add_column_dummies(train , \"caused_by\")"
      ],
      "execution_count": 0,
      "outputs": []
    },
    {
      "cell_type": "code",
      "metadata": {
        "id": "2yja3OaS7otH",
        "colab_type": "code",
        "colab": {}
      },
      "source": [
        "train = _add_column_dummies(train , \"opened_by\")\n",
        "train = _add_column_dummies(train , \"sys_created_by\")\n",
        "train = _add_column_dummies(train , \"sys_updated_by\")\n",
        "train = _add_column_dummies(train , \"location\")\n",
        "train = _add_column_dummies(train , \"category\")\n",
        "train = _add_column_dummies(train , \"subcategory\")\n",
        "train = _add_column_dummies(train , \"u_symptom\")\n",
        "train = _add_column_dummies(train , \"assignment_group\")\n",
        "train = _add_column_dummies(train , \"assigned_to\")\n",
        "train = _add_column_dummies(train , \"problem_id\")\n",
        "train = _add_column_dummies(train , \"rfc\")"
      ],
      "execution_count": 0,
      "outputs": []
    },
    {
      "cell_type": "code",
      "metadata": {
        "id": "O3L_gV1r4Gyh",
        "colab_type": "code",
        "colab": {}
      },
      "source": [
        "train = _add_column_dummies(train , \"opened_at_month\")\n",
        "train = _add_column_dummies(train , \"opened_at_weekday\")\n",
        "train = _add_column_dummies(train , \"sys_updated_at_month\")\n",
        "train = _add_column_dummies(train , \"sys_updated_at_weekday\")"
      ],
      "execution_count": 0,
      "outputs": []
    },
    {
      "cell_type": "code",
      "metadata": {
        "id": "O5KfQ6WaWqPd",
        "colab_type": "code",
        "colab": {}
      },
      "source": [
        "#train = train.drop(['opened_by', 'sys_created_by', 'sys_updated_by','location', 'category','subcategory','u_symptom','assignment_group','assigned_to','problem_id','rfc'], axis=1)"
      ],
      "execution_count": 0,
      "outputs": []
    },
    {
      "cell_type": "markdown",
      "metadata": {
        "id": "yOF0CcAz3mQW",
        "colab_type": "text"
      },
      "source": [
        "#### Les features avec 2 classes vers code bineaire "
      ]
    },
    {
      "cell_type": "code",
      "metadata": {
        "id": "BwDPLUD-Iqdq",
        "colab_type": "code",
        "colab": {}
      },
      "source": [
        "train['made_sla']=train['made_sla'].apply(lambda x : int(x == True))\n",
        "train['knowledge']=train['knowledge'].apply(lambda x : int(x == True))\n",
        "train['u_priority_confirmation']=train['u_priority_confirmation'].apply(lambda x : int(x == True))\n",
        "train['notify']=train['notify'].apply(lambda x : int(x == 'Send Email'))"
      ],
      "execution_count": 0,
      "outputs": []
    },
    {
      "cell_type": "markdown",
      "metadata": {
        "id": "FLATx_pp30Mf",
        "colab_type": "text"
      },
      "source": [
        "####Supression des colonnes qui donne le resultat"
      ]
    },
    {
      "cell_type": "code",
      "metadata": {
        "id": "GCsuQDMqAu2A",
        "colab_type": "code",
        "colab": {}
      },
      "source": [
        "train = train.drop(['closed_at', 'resolved_at', 'opened_at','sys_created_at', 'sys_updated_at','number','caller_id','closed_code','resolved_by','incident_state','active','closed_at_year','closed_at_month','closed_at_day','closed_at_weekday','closed_at_hour'], axis=1)"
      ],
      "execution_count": 0,
      "outputs": []
    },
    {
      "cell_type": "code",
      "metadata": {
        "id": "vYBIW-cJS6OC",
        "colab_type": "code",
        "colab": {}
      },
      "source": [
        "import seaborn as sns\n",
        "corr = train.corr()\n",
        "sns.heatmap(corr, \n",
        "            xticklabels=corr.columns.values,\n",
        "            yticklabels=corr.columns.values)"
      ],
      "execution_count": 0,
      "outputs": []
    },
    {
      "cell_type": "markdown",
      "metadata": {
        "id": "xqRHcxFU4M2z",
        "colab_type": "text"
      },
      "source": [
        "#### Split train et test set"
      ]
    },
    {
      "cell_type": "code",
      "metadata": {
        "id": "AkncoND-KVHh",
        "colab_type": "code",
        "colab": {}
      },
      "source": [
        "y = train['delay'].copy()\n",
        "X = train.drop(['delay'], axis=1).copy()"
      ],
      "execution_count": 0,
      "outputs": []
    },
    {
      "cell_type": "code",
      "metadata": {
        "id": "pB7_fYf-WaHq",
        "colab_type": "code",
        "colab": {}
      },
      "source": [
        "nb_sep = int(141712*0.8)\n",
        "X_train = X.iloc[0:nb_sep]\n",
        "X_test = X.iloc[nb_sep : 141712]\n",
        "Y_train = y.iloc[0:nb_sep]\n",
        "Y_test = y.iloc[nb_sep : 141712]"
      ],
      "execution_count": 0,
      "outputs": []
    },
    {
      "cell_type": "markdown",
      "metadata": {
        "id": "rq2Jdrih45Iu",
        "colab_type": "text"
      },
      "source": [
        "# Model"
      ]
    },
    {
      "cell_type": "markdown",
      "metadata": {
        "id": "nya1qt9pL3je",
        "colab_type": "text"
      },
      "source": [
        "### Entrainement ML"
      ]
    },
    {
      "cell_type": "markdown",
      "metadata": {
        "id": "0IfqJn_14Yua",
        "colab_type": "text"
      },
      "source": [
        "#### Regression"
      ]
    },
    {
      "cell_type": "code",
      "metadata": {
        "id": "i0rbqeM7bOZ4",
        "colab_type": "code",
        "colab": {}
      },
      "source": [
        "from sklearn.metrics import mean_squared_error"
      ],
      "execution_count": 0,
      "outputs": []
    },
    {
      "cell_type": "code",
      "metadata": {
        "id": "QnFLdVKwVOm9",
        "colab_type": "code",
        "colab": {}
      },
      "source": [
        "from sklearn.linear_model import LinearRegression"
      ],
      "execution_count": 0,
      "outputs": []
    },
    {
      "cell_type": "code",
      "metadata": {
        "id": "A325QflbVOen",
        "colab_type": "code",
        "colab": {}
      },
      "source": [
        "reg = LinearRegression().fit(X_train, Y_train)"
      ],
      "execution_count": 0,
      "outputs": []
    },
    {
      "cell_type": "code",
      "metadata": {
        "id": "fqbQpqtJVOVp",
        "colab_type": "code",
        "outputId": "6f58f528-d39c-48b1-c676-c2851f8d03db",
        "colab": {
          "base_uri": "https://localhost:8080/",
          "height": 32
        }
      },
      "source": [
        "reg.score(X_train, Y_train)"
      ],
      "execution_count": 57,
      "outputs": [
        {
          "output_type": "execute_result",
          "data": {
            "text/plain": [
              "0.7979243543612952"
            ]
          },
          "metadata": {
            "tags": []
          },
          "execution_count": 57
        }
      ]
    },
    {
      "cell_type": "code",
      "metadata": {
        "id": "F601Sue6YLEw",
        "colab_type": "code",
        "colab": {
          "base_uri": "https://localhost:8080/",
          "height": 49
        },
        "outputId": "167a83ed-7b53-4e12-905d-ab6f8862cfc2"
      },
      "source": [
        "reg.coef_"
      ],
      "execution_count": 58,
      "outputs": [
        {
          "output_type": "execute_result",
          "data": {
            "text/plain": [
              "array([-1.397e-02,  3.812e-01,  1.707e-03, ..., -4.650e+10, -4.650e+10,\n",
              "       -4.650e+10])"
            ]
          },
          "metadata": {
            "tags": []
          },
          "execution_count": 58
        }
      ]
    },
    {
      "cell_type": "code",
      "metadata": {
        "id": "s2pdQomTYWlR",
        "colab_type": "code",
        "outputId": "0bc3724a-91ff-4ad6-c25f-6ea4a9cab72d",
        "colab": {
          "base_uri": "https://localhost:8080/",
          "height": 32
        }
      },
      "source": [
        "reg.intercept_"
      ],
      "execution_count": 59,
      "outputs": [
        {
          "output_type": "execute_result",
          "data": {
            "text/plain": [
              "15951298242047.36"
            ]
          },
          "metadata": {
            "tags": []
          },
          "execution_count": 59
        }
      ]
    },
    {
      "cell_type": "code",
      "metadata": {
        "id": "xs0u6GDN34a0",
        "colab_type": "code",
        "outputId": "e0f17a6a-9aed-4150-b3ce-d038066666a5",
        "colab": {
          "base_uri": "https://localhost:8080/",
          "height": 32
        }
      },
      "source": [
        "mean_squared_error(Y_test, reg.predict(X_test))"
      ],
      "execution_count": 60,
      "outputs": [
        {
          "output_type": "execute_result",
          "data": {
            "text/plain": [
              "7.795800282709002e+19"
            ]
          },
          "metadata": {
            "tags": []
          },
          "execution_count": 60
        }
      ]
    },
    {
      "cell_type": "markdown",
      "metadata": {
        "id": "a3Ga2WbU4cHp",
        "colab_type": "text"
      },
      "source": [
        "#### Decision tree"
      ]
    },
    {
      "cell_type": "code",
      "metadata": {
        "id": "jzi5rIMU2KNj",
        "colab_type": "code",
        "colab": {
          "base_uri": "https://localhost:8080/",
          "height": 115
        },
        "outputId": "a14e103d-e549-48a6-bf3c-87b4f09a22d5"
      },
      "source": [
        "from sklearn.model_selection import cross_val_score\n",
        "from sklearn.tree import DecisionTreeRegressor\n",
        "\n",
        "regressor = DecisionTreeRegressor(criterion='mse', max_depth=6, max_leaf_nodes=100, min_samples_leaf=20, min_samples_split=10)\n",
        "#regressor = DecisionTreeRegressor()\n",
        "regressor.fit(X_train, Y_train)"
      ],
      "execution_count": 65,
      "outputs": [
        {
          "output_type": "execute_result",
          "data": {
            "text/plain": [
              "DecisionTreeRegressor(ccp_alpha=0.0, criterion='mse', max_depth=6,\n",
              "                      max_features=None, max_leaf_nodes=100,\n",
              "                      min_impurity_decrease=0.0, min_impurity_split=None,\n",
              "                      min_samples_leaf=20, min_samples_split=10,\n",
              "                      min_weight_fraction_leaf=0.0, presort='deprecated',\n",
              "                      random_state=None, splitter='best')"
            ]
          },
          "metadata": {
            "tags": []
          },
          "execution_count": 65
        }
      ]
    },
    {
      "cell_type": "code",
      "metadata": {
        "id": "bsv-816R2KG7",
        "colab_type": "code",
        "colab": {
          "base_uri": "https://localhost:8080/",
          "height": 32
        },
        "outputId": "7263679a-f228-46df-a3ec-0a343098777f"
      },
      "source": [
        "mean_squared_error(Y_test, regressor.predict(X_test))"
      ],
      "execution_count": 66,
      "outputs": [
        {
          "output_type": "execute_result",
          "data": {
            "text/plain": [
              "0.3876836062930299"
            ]
          },
          "metadata": {
            "tags": []
          },
          "execution_count": 66
        }
      ]
    },
    {
      "cell_type": "code",
      "metadata": {
        "id": "kaH2nfMyLvpX",
        "colab_type": "code",
        "colab": {
          "base_uri": "https://localhost:8080/",
          "height": 280
        },
        "outputId": "40e26a6f-0302-4b22-882b-2ed659cf4438"
      },
      "source": [
        "importances = pd.Series(regressor.feature_importances_, index=X_train.columns)\n",
        "importances.nlargest(5).plot(kind='barh')"
      ],
      "execution_count": 75,
      "outputs": [
        {
          "output_type": "execute_result",
          "data": {
            "text/plain": [
              "<matplotlib.axes._subplots.AxesSubplot at 0x7feb8c5f5588>"
            ]
          },
          "metadata": {
            "tags": []
          },
          "execution_count": 75
        },
        {
          "output_type": "display_data",
          "data": {
            "image/png": "[encoded data removed]",
            "text/plain": [
              "<Figure size 432x288 with 1 Axes>"
            ]
          },
          "metadata": {
            "tags": []
          }
        }
      ]
    },
    {
      "cell_type": "code",
      "metadata": {
        "id": "RTsSXoKC2KAO",
        "colab_type": "code",
        "colab": {
          "base_uri": "https://localhost:8080/",
          "height": 280
        },
        "outputId": "34fa523d-d695-45d5-9e39-41664e84ba7d"
      },
      "source": [
        "importances = pd.Series(regressor.feature_importances_, index=X_train.columns)\n",
        "importances.nlargest(10).plot(kind='barh')"
      ],
      "execution_count": 76,
      "outputs": [
        {
          "output_type": "execute_result",
          "data": {
            "text/plain": [
              "<matplotlib.axes._subplots.AxesSubplot at 0x7feb8c4c1940>"
            ]
          },
          "metadata": {
            "tags": []
          },
          "execution_count": 76
        },
        {
          "output_type": "display_data",
          "data": {
            "image/png": "[encoded data removed]",
            "text/plain": [
              "<Figure size 432x288 with 1 Axes>"
            ]
          },
          "metadata": {
            "tags": []
          }
        }
      ]
    },
    {
      "cell_type": "markdown",
      "metadata": {
        "id": "U3FTVpAc4iI-",
        "colab_type": "text"
      },
      "source": [
        "#### Random forest"
      ]
    },
    {
      "cell_type": "code",
      "metadata": {
        "id": "tM0KyPN0Dcph",
        "colab_type": "code",
        "colab": {}
      },
      "source": [
        "from sklearn.ensemble import RandomForestRegressor"
      ],
      "execution_count": 0,
      "outputs": []
    },
    {
      "cell_type": "code",
      "metadata": {
        "id": "_qDfggPDFVEg",
        "colab_type": "code",
        "colab": {
          "base_uri": "https://localhost:8080/",
          "height": 131
        },
        "outputId": "76fdaa32-a142-4810-e79b-2351f03e295d"
      },
      "source": [
        "regrRF = RandomForestRegressor(max_depth=10, random_state=0)\n",
        "regrRF.fit(X_train, Y_train)"
      ],
      "execution_count": 62,
      "outputs": [
        {
          "output_type": "execute_result",
          "data": {
            "text/plain": [
              "RandomForestRegressor(bootstrap=True, ccp_alpha=0.0, criterion='mse',\n",
              "                      max_depth=10, max_features='auto', max_leaf_nodes=None,\n",
              "                      max_samples=None, min_impurity_decrease=0.0,\n",
              "                      min_impurity_split=None, min_samples_leaf=1,\n",
              "                      min_samples_split=2, min_weight_fraction_leaf=0.0,\n",
              "                      n_estimators=100, n_jobs=None, oob_score=False,\n",
              "                      random_state=0, verbose=0, warm_start=False)"
            ]
          },
          "metadata": {
            "tags": []
          },
          "execution_count": 62
        }
      ]
    },
    {
      "cell_type": "code",
      "metadata": {
        "id": "78cV4CMTFeqr",
        "colab_type": "code",
        "outputId": "6a2da240-bf1d-490e-b305-6d9c3b218a43",
        "colab": {
          "base_uri": "https://localhost:8080/",
          "height": 32
        }
      },
      "source": [
        "mean_squared_error(Y_test, regrRF.predict(X_test))"
      ],
      "execution_count": 63,
      "outputs": [
        {
          "output_type": "execute_result",
          "data": {
            "text/plain": [
              "0.36695100031202366"
            ]
          },
          "metadata": {
            "tags": []
          },
          "execution_count": 63
        }
      ]
    },
    {
      "cell_type": "code",
      "metadata": {
        "id": "yHfeMcLiL-5n",
        "colab_type": "code",
        "colab": {
          "base_uri": "https://localhost:8080/",
          "height": 280
        },
        "outputId": "1bb3459a-2dd8-4724-c3a8-298e3b86658d"
      },
      "source": [
        "importances = pd.Series(regrRF.feature_importances_, index=X_train.columns)\n",
        "importances.nlargest(5).plot(kind='barh')"
      ],
      "execution_count": 77,
      "outputs": [
        {
          "output_type": "execute_result",
          "data": {
            "text/plain": [
              "<matplotlib.axes._subplots.AxesSubplot at 0x7feb8c4cb240>"
            ]
          },
          "metadata": {
            "tags": []
          },
          "execution_count": 77
        },
        {
          "output_type": "display_data",
          "data": {
            "image/png": "[encoded data removed]",
            "text/plain": [
              "<Figure size 432x288 with 1 Axes>"
            ]
          },
          "metadata": {
            "tags": []
          }
        }
      ]
    },
    {
      "cell_type": "code",
      "metadata": {
        "id": "DcnvhUFO2Rxe",
        "colab_type": "code",
        "colab": {
          "base_uri": "https://localhost:8080/",
          "height": 280
        },
        "outputId": "e8b52332-49cf-4777-f907-3ecc81a4c1c2"
      },
      "source": [
        "importances = pd.Series(regrRF.feature_importances_, index=X_train.columns)\n",
        "importances.nlargest(10).plot(kind='barh')"
      ],
      "execution_count": 78,
      "outputs": [
        {
          "output_type": "execute_result",
          "data": {
            "text/plain": [
              "<matplotlib.axes._subplots.AxesSubplot at 0x7feb8c4a9550>"
            ]
          },
          "metadata": {
            "tags": []
          },
          "execution_count": 78
        },
        {
          "output_type": "display_data",
          "data": {
            "image/png": "[encoded data removed]",
            "text/plain": [
              "<Figure size 432x288 with 1 Axes>"
            ]
          },
          "metadata": {
            "tags": []
          }
        }
      ]
    },
    {
      "cell_type": "markdown",
      "metadata": {
        "id": "phy3xaJd4l0C",
        "colab_type": "text"
      },
      "source": [
        "#### Gradient boosting"
      ]
    },
    {
      "cell_type": "code",
      "metadata": {
        "id": "1HmJ4v8d2gii",
        "colab_type": "code",
        "colab": {
          "base_uri": "https://localhost:8080/",
          "height": 164
        },
        "outputId": "8b0c8065-4e84-4f24-bebb-c940ec53050a"
      },
      "source": [
        "from sklearn.ensemble import GradientBoostingRegressor\n",
        "\n",
        "gradientBoostRegressor = GradientBoostingRegressor(random_state=1, n_estimators=150)\n",
        "gradientBoostRegressor.fit(X_train,Y_train)"
      ],
      "execution_count": 68,
      "outputs": [
        {
          "output_type": "execute_result",
          "data": {
            "text/plain": [
              "GradientBoostingRegressor(alpha=0.9, ccp_alpha=0.0, criterion='friedman_mse',\n",
              "                          init=None, learning_rate=0.1, loss='ls', max_depth=3,\n",
              "                          max_features=None, max_leaf_nodes=None,\n",
              "                          min_impurity_decrease=0.0, min_impurity_split=None,\n",
              "                          min_samples_leaf=1, min_samples_split=2,\n",
              "                          min_weight_fraction_leaf=0.0, n_estimators=150,\n",
              "                          n_iter_no_change=None, presort='deprecated',\n",
              "                          random_state=1, subsample=1.0, tol=0.0001,\n",
              "                          validation_fraction=0.1, verbose=0, warm_start=False)"
            ]
          },
          "metadata": {
            "tags": []
          },
          "execution_count": 68
        }
      ]
    },
    {
      "cell_type": "code",
      "metadata": {
        "id": "l_S1n0G_2gcD",
        "colab_type": "code",
        "colab": {
          "base_uri": "https://localhost:8080/",
          "height": 32
        },
        "outputId": "0a28bea9-269b-4fda-fa00-67e44c5e4dc6"
      },
      "source": [
        "mean_squared_error(Y_test, gradientBoostRegressor.predict(X_test))"
      ],
      "execution_count": 69,
      "outputs": [
        {
          "output_type": "execute_result",
          "data": {
            "text/plain": [
              "0.38981212415964334"
            ]
          },
          "metadata": {
            "tags": []
          },
          "execution_count": 69
        }
      ]
    },
    {
      "cell_type": "code",
      "metadata": {
        "id": "dEt2cKjs2gVP",
        "colab_type": "code",
        "colab": {
          "base_uri": "https://localhost:8080/",
          "height": 280
        },
        "outputId": "ab0a0a63-07d3-4ff6-d558-19992f692439"
      },
      "source": [
        "importances = pd.Series(gradientBoostRegressor.feature_importances_, index=X_train.columns)\n",
        "importances.nlargest(5).plot(kind='barh')"
      ],
      "execution_count": 80,
      "outputs": [
        {
          "output_type": "execute_result",
          "data": {
            "text/plain": [
              "<matplotlib.axes._subplots.AxesSubplot at 0x7feab67869e8>"
            ]
          },
          "metadata": {
            "tags": []
          },
          "execution_count": 80
        },
        {
          "output_type": "display_data",
          "data": {
            "image/png": "[encoded data removed]",
            "text/plain": [
              "<Figure size 432x288 with 1 Axes>"
            ]
          },
          "metadata": {
            "tags": []
          }
        }
      ]
    },
    {
      "cell_type": "code",
      "metadata": {
        "id": "T27t0YcGMHRu",
        "colab_type": "code",
        "colab": {
          "base_uri": "https://localhost:8080/",
          "height": 280
        },
        "outputId": "f62cc66a-d4bf-4be0-d5a8-877403131edc"
      },
      "source": [
        "importances = pd.Series(gradientBoostRegressor.feature_importances_, index=X_train.columns)\n",
        "importances.nlargest(10).plot(kind='barh')"
      ],
      "execution_count": 79,
      "outputs": [
        {
          "output_type": "execute_result",
          "data": {
            "text/plain": [
              "<matplotlib.axes._subplots.AxesSubplot at 0x7feab670eda0>"
            ]
          },
          "metadata": {
            "tags": []
          },
          "execution_count": 79
        },
        {
          "output_type": "display_data",
          "data": {
            "image/png": "[encoded data removed]",
            "text/plain": [
              "<Figure size 432x288 with 1 Axes>"
            ]
          },
          "metadata": {
            "tags": []
          }
        }
      ]
    },
    {
      "cell_type": "markdown",
      "metadata": {
        "id": "ggSOO2bXZkXS",
        "colab_type": "text"
      },
      "source": [
        "### Entrainement DL"
      ]
    },
    {
      "cell_type": "code",
      "metadata": {
        "id": "pscWrQpvZksC",
        "colab_type": "code",
        "outputId": "28224ee4-5102-4fe0-ab46-9b19300bc787",
        "colab": {
          "base_uri": "https://localhost:8080/",
          "height": 49
        }
      },
      "source": [
        "%tensorflow_version 2.x\n",
        "import tensorflow as tf\n",
        "print(tf.__version__)"
      ],
      "execution_count": 37,
      "outputs": [
        {
          "output_type": "stream",
          "text": [
            "TensorFlow 2.x selected.\n",
            "2.1.0\n"
          ],
          "name": "stdout"
        }
      ]
    },
    {
      "cell_type": "code",
      "metadata": {
        "id": "5X67IU3IZ_2n",
        "colab_type": "code",
        "colab": {
          "base_uri": "https://localhost:8080/",
          "height": 32
        },
        "outputId": "3082486c-e4ea-4fc4-b5ce-0ae83f046efa"
      },
      "source": [
        "from __future__ import absolute_import, division, print_function, unicode_literals\n",
        "import numpy as np\n",
        "import tensorflow as tf\n",
        "import pandas as pd\n",
        "import matplotlib.pyplot as plt\n",
        "import os\n",
        "import io\n",
        "from tensorflow import keras\n",
        "from tensorflow.keras import layers\n",
        "import tensorflow.keras.backend as K\n",
        "tf.keras.backend.clear_session()\n",
        "np.set_printoptions(precision=3, suppress=True)\n",
        "pd.options.display.max_colwidth = 1000\n",
        "from keras.regularizers import l2"
      ],
      "execution_count": 38,
      "outputs": [
        {
          "output_type": "stream",
          "text": [
            "Using TensorFlow backend.\n"
          ],
          "name": "stderr"
        }
      ]
    },
    {
      "cell_type": "code",
      "metadata": {
        "id": "RzH-2QiNaGwK",
        "colab_type": "code",
        "colab": {}
      },
      "source": [
        "DenseLayer1 = tf.keras.layers.Dense(3174)\n",
        "\n",
        "DenseLayer2 = tf.keras.layers.Dense(1500, activation='relu')\n",
        "\n",
        "DenseLayer3 = tf.keras.layers.Dense(750, activation='relu')\n",
        "\n",
        "DenseLayer4 = tf.keras.layers.Dense(300, activation='relu')\n",
        "\n",
        "DenseLayer5 = tf.keras.layers.Dense(150, activation='relu')\n",
        "\n",
        "DenseLayer6 = tf.keras.layers.Dense(64, activation='relu')\n",
        "\n",
        "DenseLayer7 = tf.keras.layers.Dense(32, activation='relu')\n",
        "\n",
        "DenseLayer8 = tf.keras.layers.Dense(1)"
      ],
      "execution_count": 0,
      "outputs": []
    },
    {
      "cell_type": "code",
      "metadata": {
        "id": "5TBzkvXIa26M",
        "colab_type": "code",
        "colab": {}
      },
      "source": [
        "model = tf.keras.Sequential()\n",
        "model.add(DenseLayer1)\n",
        "model.add(DenseLayer2)\n",
        "model.add(DenseLayer3)\n",
        "model.add(DenseLayer4)\n",
        "model.add(DenseLayer5)\n",
        "model.add(DenseLayer6)\n",
        "model.add(DenseLayer7)\n",
        "model.add(DenseLayer8)"
      ],
      "execution_count": 0,
      "outputs": []
    },
    {
      "cell_type": "code",
      "metadata": {
        "id": "K21uJ0JXa2nz",
        "colab_type": "code",
        "colab": {}
      },
      "source": [
        "model.compile(loss='mean_squared_error',# . mean_absolute_error\n",
        "              optimizer=tf.keras.optimizers.Adam(),\n",
        "              metrics=['mse','mae'])"
      ],
      "execution_count": 0,
      "outputs": []
    },
    {
      "cell_type": "code",
      "metadata": {
        "id": "ImfoMlkcd9fz",
        "colab_type": "code",
        "outputId": "3a50002a-9144-48a0-987e-b3da080bd748",
        "colab": {
          "base_uri": "https://localhost:8080/",
          "height": 1000
        }
      },
      "source": [
        "history = model.fit(np.array(X_train), #3174\n",
        "                    np.array(Y_train),\n",
        "                    epochs=100,\n",
        "                    batch_size=100,\n",
        "                    validation_data=(np.array(X_test), np.array(Y_test)),\n",
        "                    verbose=1)"
      ],
      "execution_count": 42,
      "outputs": [
        {
          "output_type": "stream",
          "text": [
            "Train on 113369 samples, validate on 28343 samples\n",
            "Epoch 1/100\n",
            "113369/113369 [==============================] - 10s 92us/sample - loss: 40.6877 - mse: 40.6877 - mae: 2.4833 - val_loss: 4.0620 - val_mse: 4.0620 - val_mae: 1.2089\n",
            "Epoch 2/100\n",
            "113369/113369 [==============================] - 8s 68us/sample - loss: 2.7200 - mse: 2.7200 - mae: 1.2347 - val_loss: 1.6921 - val_mse: 1.6921 - val_mae: 0.9978\n",
            "Epoch 3/100\n",
            "113369/113369 [==============================] - 8s 67us/sample - loss: 1.1393 - mse: 1.1393 - mae: 0.7529 - val_loss: 1.7240 - val_mse: 1.7240 - val_mae: 0.9720\n",
            "Epoch 4/100\n",
            "113369/113369 [==============================] - 8s 67us/sample - loss: 0.9955 - mse: 0.9955 - mae: 0.6583 - val_loss: 0.7313 - val_mse: 0.7313 - val_mae: 0.5037\n",
            "Epoch 5/100\n",
            "113369/113369 [==============================] - 8s 67us/sample - loss: 166.1049 - mse: 166.1049 - mae: 2.6301 - val_loss: 2.8307 - val_mse: 2.8307 - val_mae: 1.2811\n",
            "Epoch 6/100\n",
            "113369/113369 [==============================] - 8s 67us/sample - loss: 1.4248 - mse: 1.4248 - mae: 0.8884 - val_loss: 0.9671 - val_mse: 0.9671 - val_mae: 0.7154\n",
            "Epoch 7/100\n",
            "113369/113369 [==============================] - 8s 67us/sample - loss: 0.8728 - mse: 0.8728 - mae: 0.6584 - val_loss: 0.8040 - val_mse: 0.8040 - val_mae: 0.5914\n",
            "Epoch 8/100\n",
            "113369/113369 [==============================] - 8s 68us/sample - loss: 0.8385 - mse: 0.8385 - mae: 0.6340 - val_loss: 0.8187 - val_mse: 0.8187 - val_mae: 0.5718\n",
            "Epoch 9/100\n",
            "113369/113369 [==============================] - 8s 66us/sample - loss: 0.7751 - mse: 0.7751 - mae: 0.5826 - val_loss: 0.9842 - val_mse: 0.9842 - val_mae: 0.6819\n",
            "Epoch 10/100\n",
            "113369/113369 [==============================] - 8s 67us/sample - loss: 0.7806 - mse: 0.7806 - mae: 0.5627 - val_loss: 1.0034 - val_mse: 1.0034 - val_mae: 0.6706\n",
            "Epoch 11/100\n",
            "113369/113369 [==============================] - 8s 68us/sample - loss: 0.7788 - mse: 0.7788 - mae: 0.5546 - val_loss: 1.5756 - val_mse: 1.5756 - val_mae: 0.8820\n",
            "Epoch 12/100\n",
            "113369/113369 [==============================] - 8s 68us/sample - loss: 0.7387 - mse: 0.7387 - mae: 0.5374 - val_loss: 0.7864 - val_mse: 0.7864 - val_mae: 0.4960\n",
            "Epoch 13/100\n",
            "113369/113369 [==============================] - 8s 67us/sample - loss: 0.8385 - mse: 0.8385 - mae: 0.5630 - val_loss: 1.0510 - val_mse: 1.0510 - val_mae: 0.5536\n",
            "Epoch 14/100\n",
            "113369/113369 [==============================] - 8s 66us/sample - loss: 0.7289 - mse: 0.7289 - mae: 0.5167 - val_loss: 1.4983 - val_mse: 1.4983 - val_mae: 0.7742\n",
            "Epoch 15/100\n",
            "113369/113369 [==============================] - 8s 67us/sample - loss: 0.7279 - mse: 0.7279 - mae: 0.5196 - val_loss: 1.3657 - val_mse: 1.3657 - val_mae: 0.7669\n",
            "Epoch 16/100\n",
            "113369/113369 [==============================] - 8s 67us/sample - loss: 0.7089 - mse: 0.7089 - mae: 0.5088 - val_loss: 0.9616 - val_mse: 0.9616 - val_mae: 0.6637\n",
            "Epoch 17/100\n",
            "113369/113369 [==============================] - 8s 67us/sample - loss: 0.7148 - mse: 0.7148 - mae: 0.5133 - val_loss: 0.6248 - val_mse: 0.6248 - val_mae: 0.4514\n",
            "Epoch 18/100\n",
            "113369/113369 [==============================] - 8s 67us/sample - loss: 0.7101 - mse: 0.7101 - mae: 0.5068 - val_loss: 0.7914 - val_mse: 0.7914 - val_mae: 0.5971\n",
            "Epoch 19/100\n",
            "113369/113369 [==============================] - 8s 68us/sample - loss: 0.6142 - mse: 0.6142 - mae: 0.4745 - val_loss: 0.6195 - val_mse: 0.6195 - val_mae: 0.4514\n",
            "Epoch 20/100\n",
            "113369/113369 [==============================] - 8s 67us/sample - loss: 0.6620 - mse: 0.6620 - mae: 0.4899 - val_loss: 0.7191 - val_mse: 0.7191 - val_mae: 0.5485\n",
            "Epoch 21/100\n",
            "113369/113369 [==============================] - 8s 67us/sample - loss: 0.6243 - mse: 0.6243 - mae: 0.4789 - val_loss: 0.8191 - val_mse: 0.8191 - val_mae: 0.5516\n",
            "Epoch 22/100\n",
            "113369/113369 [==============================] - 8s 67us/sample - loss: 0.6056 - mse: 0.6056 - mae: 0.4701 - val_loss: 0.7357 - val_mse: 0.7357 - val_mae: 0.4822\n",
            "Epoch 23/100\n",
            "113369/113369 [==============================] - 8s 68us/sample - loss: 0.6080 - mse: 0.6080 - mae: 0.4669 - val_loss: 0.8182 - val_mse: 0.8182 - val_mae: 0.5933\n",
            "Epoch 24/100\n",
            "113369/113369 [==============================] - 8s 66us/sample - loss: 0.6199 - mse: 0.6199 - mae: 0.4786 - val_loss: 0.6838 - val_mse: 0.6838 - val_mae: 0.4916\n",
            "Epoch 25/100\n",
            "113369/113369 [==============================] - 8s 66us/sample - loss: 0.5948 - mse: 0.5948 - mae: 0.4612 - val_loss: 0.7858 - val_mse: 0.7858 - val_mae: 0.5854\n",
            "Epoch 26/100\n",
            "113369/113369 [==============================] - 8s 67us/sample - loss: 0.5687 - mse: 0.5687 - mae: 0.4504 - val_loss: 1.1564 - val_mse: 1.1564 - val_mae: 0.5770\n",
            "Epoch 27/100\n",
            "113369/113369 [==============================] - 8s 67us/sample - loss: 0.6964 - mse: 0.6964 - mae: 0.5036 - val_loss: 0.6101 - val_mse: 0.6101 - val_mae: 0.4300\n",
            "Epoch 28/100\n",
            "113369/113369 [==============================] - 8s 67us/sample - loss: 0.5882 - mse: 0.5882 - mae: 0.4581 - val_loss: 0.9799 - val_mse: 0.9799 - val_mae: 0.5857\n",
            "Epoch 29/100\n",
            "113369/113369 [==============================] - 8s 66us/sample - loss: 0.5770 - mse: 0.5770 - mae: 0.4524 - val_loss: 0.6337 - val_mse: 0.6337 - val_mae: 0.4335\n",
            "Epoch 30/100\n",
            "113369/113369 [==============================] - 7s 66us/sample - loss: 0.5504 - mse: 0.5504 - mae: 0.4419 - val_loss: 0.5840 - val_mse: 0.5840 - val_mae: 0.4453\n",
            "Epoch 31/100\n",
            "113369/113369 [==============================] - 8s 67us/sample - loss: 0.5628 - mse: 0.5628 - mae: 0.4452 - val_loss: 0.9579 - val_mse: 0.9579 - val_mae: 0.5494\n",
            "Epoch 32/100\n",
            "113369/113369 [==============================] - 8s 66us/sample - loss: 0.5287 - mse: 0.5287 - mae: 0.4314 - val_loss: 0.9788 - val_mse: 0.9788 - val_mae: 0.5308\n",
            "Epoch 33/100\n",
            "113369/113369 [==============================] - 8s 66us/sample - loss: 1.1437 - mse: 1.1438 - mae: 0.5195 - val_loss: 1.2860 - val_mse: 1.2860 - val_mae: 0.6799\n",
            "Epoch 34/100\n",
            "113369/113369 [==============================] - 8s 67us/sample - loss: 0.6040 - mse: 0.6040 - mae: 0.4727 - val_loss: 1.9234 - val_mse: 1.9234 - val_mae: 0.9247\n",
            "Epoch 35/100\n",
            "113369/113369 [==============================] - 8s 67us/sample - loss: 0.5935 - mse: 0.5935 - mae: 0.4693 - val_loss: 0.7941 - val_mse: 0.7941 - val_mae: 0.4828\n",
            "Epoch 36/100\n",
            "113369/113369 [==============================] - 8s 67us/sample - loss: 0.6306 - mse: 0.6306 - mae: 0.4841 - val_loss: 0.8882 - val_mse: 0.8882 - val_mae: 0.4961\n",
            "Epoch 37/100\n",
            "113369/113369 [==============================] - 7s 66us/sample - loss: 0.5724 - mse: 0.5724 - mae: 0.4625 - val_loss: 1.3843 - val_mse: 1.3843 - val_mae: 0.6896\n",
            "Epoch 38/100\n",
            "113369/113369 [==============================] - 8s 66us/sample - loss: 0.5901 - mse: 0.5901 - mae: 0.4645 - val_loss: 0.6324 - val_mse: 0.6324 - val_mae: 0.4430\n",
            "Epoch 39/100\n",
            "113369/113369 [==============================] - 8s 68us/sample - loss: 0.5788 - mse: 0.5788 - mae: 0.4581 - val_loss: 0.7319 - val_mse: 0.7319 - val_mae: 0.5605\n",
            "Epoch 40/100\n",
            "113369/113369 [==============================] - 7s 66us/sample - loss: 0.5713 - mse: 0.5713 - mae: 0.4540 - val_loss: 0.8213 - val_mse: 0.8213 - val_mae: 0.5943\n",
            "Epoch 41/100\n",
            "113369/113369 [==============================] - 8s 68us/sample - loss: 0.5759 - mse: 0.5759 - mae: 0.4559 - val_loss: 0.8055 - val_mse: 0.8055 - val_mae: 0.4760\n",
            "Epoch 42/100\n",
            "113369/113369 [==============================] - 8s 70us/sample - loss: 0.6007 - mse: 0.6007 - mae: 0.4632 - val_loss: 0.6131 - val_mse: 0.6131 - val_mae: 0.4545\n",
            "Epoch 43/100\n",
            "113369/113369 [==============================] - 8s 67us/sample - loss: 0.5713 - mse: 0.5713 - mae: 0.4476 - val_loss: 0.6770 - val_mse: 0.6770 - val_mae: 0.4777\n",
            "Epoch 44/100\n",
            "113369/113369 [==============================] - 8s 67us/sample - loss: 0.5198 - mse: 0.5198 - mae: 0.4268 - val_loss: 0.6472 - val_mse: 0.6472 - val_mae: 0.4573\n",
            "Epoch 45/100\n",
            "113369/113369 [==============================] - 8s 66us/sample - loss: 0.5436 - mse: 0.5436 - mae: 0.4370 - val_loss: 0.5722 - val_mse: 0.5722 - val_mae: 0.4184\n",
            "Epoch 46/100\n",
            "113369/113369 [==============================] - 8s 66us/sample - loss: 0.5466 - mse: 0.5466 - mae: 0.4407 - val_loss: 0.6401 - val_mse: 0.6401 - val_mae: 0.4641\n",
            "Epoch 47/100\n",
            "113369/113369 [==============================] - 8s 67us/sample - loss: 0.5096 - mse: 0.5096 - mae: 0.4213 - val_loss: 0.9107 - val_mse: 0.9107 - val_mae: 0.5180\n",
            "Epoch 48/100\n",
            "113369/113369 [==============================] - 8s 67us/sample - loss: 0.5269 - mse: 0.5269 - mae: 0.4312 - val_loss: 0.9770 - val_mse: 0.9770 - val_mae: 0.5973\n",
            "Epoch 49/100\n",
            "113369/113369 [==============================] - 8s 67us/sample - loss: 0.5203 - mse: 0.5203 - mae: 0.4235 - val_loss: 0.6148 - val_mse: 0.6148 - val_mae: 0.4424\n",
            "Epoch 50/100\n",
            "113369/113369 [==============================] - 8s 67us/sample - loss: 0.5133 - mse: 0.5133 - mae: 0.4211 - val_loss: 0.6398 - val_mse: 0.6398 - val_mae: 0.4365\n",
            "Epoch 51/100\n",
            "113369/113369 [==============================] - 8s 68us/sample - loss: 0.5001 - mse: 0.5001 - mae: 0.4148 - val_loss: 0.5501 - val_mse: 0.5501 - val_mae: 0.4056\n",
            "Epoch 52/100\n",
            "113369/113369 [==============================] - 8s 67us/sample - loss: 0.4889 - mse: 0.4889 - mae: 0.4080 - val_loss: 0.5900 - val_mse: 0.5900 - val_mae: 0.4395\n",
            "Epoch 53/100\n",
            "113369/113369 [==============================] - 8s 67us/sample - loss: 0.5060 - mse: 0.5060 - mae: 0.4146 - val_loss: 0.5687 - val_mse: 0.5687 - val_mae: 0.4099\n",
            "Epoch 54/100\n",
            "113369/113369 [==============================] - 8s 67us/sample - loss: 0.5190 - mse: 0.5190 - mae: 0.4229 - val_loss: 0.7031 - val_mse: 0.7031 - val_mae: 0.4705\n",
            "Epoch 55/100\n",
            "113369/113369 [==============================] - 8s 68us/sample - loss: 0.5007 - mse: 0.5007 - mae: 0.4157 - val_loss: 0.6576 - val_mse: 0.6576 - val_mae: 0.4326\n",
            "Epoch 56/100\n",
            "113369/113369 [==============================] - 8s 67us/sample - loss: 0.4963 - mse: 0.4963 - mae: 0.4120 - val_loss: 0.8663 - val_mse: 0.8663 - val_mae: 0.5314\n",
            "Epoch 57/100\n",
            "113369/113369 [==============================] - 8s 67us/sample - loss: 0.4796 - mse: 0.4796 - mae: 0.4059 - val_loss: 0.7227 - val_mse: 0.7227 - val_mae: 0.5164\n",
            "Epoch 58/100\n",
            "113369/113369 [==============================] - 8s 67us/sample - loss: 0.4789 - mse: 0.4789 - mae: 0.4055 - val_loss: 0.5284 - val_mse: 0.5284 - val_mae: 0.3943\n",
            "Epoch 59/100\n",
            "113369/113369 [==============================] - 8s 68us/sample - loss: 0.4710 - mse: 0.4710 - mae: 0.4014 - val_loss: 0.5545 - val_mse: 0.5545 - val_mae: 0.3989\n",
            "Epoch 60/100\n",
            "113369/113369 [==============================] - 8s 68us/sample - loss: 0.4693 - mse: 0.4693 - mae: 0.4006 - val_loss: 0.5453 - val_mse: 0.5453 - val_mae: 0.4199\n",
            "Epoch 61/100\n",
            "113369/113369 [==============================] - 8s 67us/sample - loss: 0.4544 - mse: 0.4544 - mae: 0.3932 - val_loss: 0.9484 - val_mse: 0.9484 - val_mae: 0.4866\n",
            "Epoch 62/100\n",
            "113369/113369 [==============================] - 8s 67us/sample - loss: 0.5409 - mse: 0.5409 - mae: 0.4290 - val_loss: 0.6449 - val_mse: 0.6449 - val_mae: 0.4343\n",
            "Epoch 63/100\n",
            "113369/113369 [==============================] - 8s 67us/sample - loss: 0.4397 - mse: 0.4397 - mae: 0.3913 - val_loss: 0.5392 - val_mse: 0.5392 - val_mae: 0.3954\n",
            "Epoch 64/100\n",
            "113369/113369 [==============================] - 8s 67us/sample - loss: 0.4540 - mse: 0.4540 - mae: 0.3903 - val_loss: 1.1887 - val_mse: 1.1887 - val_mae: 0.6506\n",
            "Epoch 65/100\n",
            "113369/113369 [==============================] - 8s 67us/sample - loss: 0.6181 - mse: 0.6181 - mae: 0.4644 - val_loss: 0.6596 - val_mse: 0.6596 - val_mae: 0.4562\n",
            "Epoch 66/100\n",
            "113369/113369 [==============================] - 8s 69us/sample - loss: 0.4818 - mse: 0.4818 - mae: 0.4142 - val_loss: 0.6246 - val_mse: 0.6246 - val_mae: 0.4799\n",
            "Epoch 67/100\n",
            "113369/113369 [==============================] - 8s 69us/sample - loss: 0.4933 - mse: 0.4933 - mae: 0.4195 - val_loss: 0.9472 - val_mse: 0.9472 - val_mae: 0.4968\n",
            "Epoch 68/100\n",
            "113369/113369 [==============================] - 8s 68us/sample - loss: 0.4463 - mse: 0.4463 - mae: 0.4007 - val_loss: 0.5945 - val_mse: 0.5945 - val_mae: 0.4311\n",
            "Epoch 69/100\n",
            "113369/113369 [==============================] - 8s 67us/sample - loss: 0.4932 - mse: 0.4932 - mae: 0.4213 - val_loss: 0.6494 - val_mse: 0.6494 - val_mae: 0.5404\n",
            "Epoch 70/100\n",
            "113369/113369 [==============================] - 8s 67us/sample - loss: 0.4164 - mse: 0.4164 - mae: 0.3859 - val_loss: 0.6988 - val_mse: 0.6988 - val_mae: 0.4902\n",
            "Epoch 71/100\n",
            "113369/113369 [==============================] - 8s 67us/sample - loss: 0.4489 - mse: 0.4489 - mae: 0.3949 - val_loss: 0.5218 - val_mse: 0.5218 - val_mae: 0.4072\n",
            "Epoch 72/100\n",
            "113369/113369 [==============================] - 8s 67us/sample - loss: 0.3909 - mse: 0.3909 - mae: 0.3728 - val_loss: 0.8521 - val_mse: 0.8521 - val_mae: 0.5090\n",
            "Epoch 73/100\n",
            "113369/113369 [==============================] - 8s 67us/sample - loss: 0.5111 - mse: 0.5111 - mae: 0.4138 - val_loss: 0.7116 - val_mse: 0.7116 - val_mae: 0.4629\n",
            "Epoch 74/100\n",
            "113369/113369 [==============================] - 8s 68us/sample - loss: 0.4431 - mse: 0.4431 - mae: 0.3906 - val_loss: 0.5986 - val_mse: 0.5986 - val_mae: 0.4479\n",
            "Epoch 75/100\n",
            "113369/113369 [==============================] - 8s 68us/sample - loss: 0.4090 - mse: 0.4090 - mae: 0.3774 - val_loss: 0.5699 - val_mse: 0.5699 - val_mae: 0.4240\n",
            "Epoch 76/100\n",
            "113369/113369 [==============================] - 8s 68us/sample - loss: 0.4245 - mse: 0.4245 - mae: 0.3848 - val_loss: 0.5602 - val_mse: 0.5602 - val_mae: 0.4236\n",
            "Epoch 77/100\n",
            "113369/113369 [==============================] - 8s 68us/sample - loss: 0.4344 - mse: 0.4344 - mae: 0.3877 - val_loss: 0.5283 - val_mse: 0.5283 - val_mae: 0.3805\n",
            "Epoch 78/100\n",
            "113369/113369 [==============================] - 8s 68us/sample - loss: 0.3990 - mse: 0.3990 - mae: 0.3706 - val_loss: 0.5189 - val_mse: 0.5189 - val_mae: 0.4019\n",
            "Epoch 79/100\n",
            "113369/113369 [==============================] - 8s 68us/sample - loss: 0.4088 - mse: 0.4088 - mae: 0.3806 - val_loss: 0.7888 - val_mse: 0.7888 - val_mae: 0.4617\n",
            "Epoch 80/100\n",
            "113369/113369 [==============================] - 8s 67us/sample - loss: 0.4914 - mse: 0.4914 - mae: 0.4139 - val_loss: 0.7225 - val_mse: 0.7225 - val_mae: 0.4590\n",
            "Epoch 81/100\n",
            "113369/113369 [==============================] - 8s 68us/sample - loss: 0.4632 - mse: 0.4632 - mae: 0.4058 - val_loss: 1.0717 - val_mse: 1.0717 - val_mae: 0.6376\n",
            "Epoch 82/100\n",
            "113369/113369 [==============================] - 8s 71us/sample - loss: 0.4357 - mse: 0.4357 - mae: 0.3921 - val_loss: 0.5899 - val_mse: 0.5899 - val_mae: 0.4414\n",
            "Epoch 83/100\n",
            "113369/113369 [==============================] - 8s 69us/sample - loss: 0.4274 - mse: 0.4274 - mae: 0.3858 - val_loss: 0.5241 - val_mse: 0.5241 - val_mae: 0.4194\n",
            "Epoch 84/100\n",
            "113369/113369 [==============================] - 8s 67us/sample - loss: 0.4090 - mse: 0.4090 - mae: 0.3812 - val_loss: 1.3155 - val_mse: 1.3155 - val_mae: 0.5889\n",
            "Epoch 85/100\n",
            "113369/113369 [==============================] - 8s 67us/sample - loss: 0.3958 - mse: 0.3958 - mae: 0.3760 - val_loss: 0.5737 - val_mse: 0.5737 - val_mae: 0.4334\n",
            "Epoch 86/100\n",
            "113369/113369 [==============================] - 8s 68us/sample - loss: 0.3877 - mse: 0.3877 - mae: 0.3675 - val_loss: 0.5149 - val_mse: 0.5149 - val_mae: 0.3904\n",
            "Epoch 87/100\n",
            "113369/113369 [==============================] - 8s 68us/sample - loss: 0.3921 - mse: 0.3921 - mae: 0.3706 - val_loss: 0.5381 - val_mse: 0.5381 - val_mae: 0.4121\n",
            "Epoch 88/100\n",
            "113369/113369 [==============================] - 8s 67us/sample - loss: 0.3876 - mse: 0.3876 - mae: 0.3707 - val_loss: 0.4985 - val_mse: 0.4985 - val_mae: 0.3951\n",
            "Epoch 89/100\n",
            "113369/113369 [==============================] - 8s 67us/sample - loss: 0.4000 - mse: 0.4000 - mae: 0.3725 - val_loss: 0.6417 - val_mse: 0.6417 - val_mae: 0.4221\n",
            "Epoch 90/100\n",
            "113369/113369 [==============================] - 8s 68us/sample - loss: 0.4602 - mse: 0.4602 - mae: 0.4081 - val_loss: 0.5595 - val_mse: 0.5595 - val_mae: 0.4153\n",
            "Epoch 91/100\n",
            "113369/113369 [==============================] - 8s 67us/sample - loss: 0.4091 - mse: 0.4091 - mae: 0.3787 - val_loss: 0.7979 - val_mse: 0.7979 - val_mae: 0.4555\n",
            "Epoch 92/100\n",
            "113369/113369 [==============================] - 8s 67us/sample - loss: 0.5246 - mse: 0.5246 - mae: 0.4452 - val_loss: 0.6255 - val_mse: 0.6255 - val_mae: 0.4534\n",
            "Epoch 93/100\n",
            "113369/113369 [==============================] - 8s 67us/sample - loss: 0.4102 - mse: 0.4102 - mae: 0.3917 - val_loss: 0.4689 - val_mse: 0.4689 - val_mae: 0.3847\n",
            "Epoch 94/100\n",
            "113369/113369 [==============================] - 8s 67us/sample - loss: 0.5190 - mse: 0.5190 - mae: 0.4399 - val_loss: 0.6703 - val_mse: 0.6703 - val_mae: 0.4764\n",
            "Epoch 95/100\n",
            "113369/113369 [==============================] - 8s 67us/sample - loss: 0.3858 - mse: 0.3858 - mae: 0.3823 - val_loss: 0.5394 - val_mse: 0.5394 - val_mae: 0.4421\n",
            "Epoch 96/100\n",
            "113369/113369 [==============================] - 8s 67us/sample - loss: 0.6789 - mse: 0.6789 - mae: 0.5075 - val_loss: 0.6142 - val_mse: 0.6142 - val_mae: 0.5136\n",
            "Epoch 97/100\n",
            "113369/113369 [==============================] - 8s 68us/sample - loss: 0.7463 - mse: 0.7463 - mae: 0.5354 - val_loss: 0.9856 - val_mse: 0.9856 - val_mae: 0.6637\n",
            "Epoch 98/100\n",
            "113369/113369 [==============================] - 8s 68us/sample - loss: 0.8897 - mse: 0.8897 - mae: 0.5881 - val_loss: 0.6198 - val_mse: 0.6198 - val_mae: 0.4956\n",
            "Epoch 99/100\n",
            "113369/113369 [==============================] - 8s 67us/sample - loss: 0.6514 - mse: 0.6514 - mae: 0.4991 - val_loss: 0.6032 - val_mse: 0.6032 - val_mae: 0.4919\n",
            "Epoch 100/100\n",
            "113369/113369 [==============================] - 8s 67us/sample - loss: 0.4918 - mse: 0.4918 - mae: 0.4314 - val_loss: 0.8237 - val_mse: 0.8237 - val_mae: 0.6295\n"
          ],
          "name": "stdout"
        }
      ]
    },
    {
      "cell_type": "markdown",
      "metadata": {
        "id": "Uqos3QFZLryO",
        "colab_type": "text"
      },
      "source": [
        "val_mse: 0.4689 - val_mae: 0.3847"
      ]
    },
    {
      "cell_type": "code",
      "metadata": {
        "id": "f0zpfHBsMS_D",
        "colab_type": "code",
        "colab": {
          "base_uri": "https://localhost:8080/",
          "height": 298
        },
        "outputId": "7b69b00c-ef48-4b80-82f4-8e176c61b8ca"
      },
      "source": [
        "plt.plot(history.history['mse'], label='mse')\n",
        "plt.plot(history.history['mae'], label = 'mae')\n",
        "plt.xlabel('Epoch')\n",
        "plt.ylabel('Accuracy')\n",
        "plt.ylim([0, 1])\n",
        "plt.legend(loc='lower right')"
      ],
      "execution_count": 86,
      "outputs": [
        {
          "output_type": "execute_result",
          "data": {
            "text/plain": [
              "<matplotlib.legend.Legend at 0x7feab646bd68>"
            ]
          },
          "metadata": {
            "tags": []
          },
          "execution_count": 86
        },
        {
          "output_type": "display_data",
          "data": {
            "image/png": "[encoded data removed]",
            "text/plain": [
              "<Figure size 432x288 with 1 Axes>"
            ]
          },
          "metadata": {
            "tags": []
          }
        }
      ]
    }
  ]
}